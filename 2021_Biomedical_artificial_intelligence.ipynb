{
  "nbformat": 4,
  "nbformat_minor": 0,
  "metadata": {
    "colab": {
      "name": "2021_Biomedical_artificial_intelligence.ipynb",
      "provenance": [],
      "collapsed_sections": []
    },
    "kernelspec": {
      "name": "python3",
      "display_name": "Python 3"
    },
    "language_info": {
      "name": "python"
    },
    "accelerator": "GPU"
  },
  "cells": [
    {
      "cell_type": "code",
      "metadata": {
        "colab": {
          "base_uri": "https://localhost:8080/",
          "height": 35
        },
        "id": "HHnXZlQs56kB",
        "outputId": "5948d024-c209-467d-db46-3b19cd934742"
      },
      "source": [
        "pwd"
      ],
      "execution_count": 44,
      "outputs": [
        {
          "output_type": "execute_result",
          "data": {
            "application/vnd.google.colaboratory.intrinsic+json": {
              "type": "string"
            },
            "text/plain": [
              "'/content'"
            ]
          },
          "metadata": {
            "tags": []
          },
          "execution_count": 44
        }
      ]
    },
    {
      "cell_type": "code",
      "metadata": {
        "colab": {
          "base_uri": "https://localhost:8080/"
        },
        "id": "DpsSs5-Toiqn",
        "outputId": "1305c9db-0b18-47d1-cda2-f5673d0d1b01"
      },
      "source": [
        "from google.colab import drive\n",
        "drive.mount('/content/drive')"
      ],
      "execution_count": 45,
      "outputs": [
        {
          "output_type": "stream",
          "text": [
            "Drive already mounted at /content/drive; to attempt to forcibly remount, call drive.mount(\"/content/drive\", force_remount=True).\n"
          ],
          "name": "stdout"
        }
      ]
    },
    {
      "cell_type": "code",
      "metadata": {
        "colab": {
          "base_uri": "https://localhost:8080/"
        },
        "id": "uWIsfTPIAI8v",
        "outputId": "dace9282-edaa-49d6-9184-e2c067a0ea8e"
      },
      "source": [
        "pip list | grep scikit-learn"
      ],
      "execution_count": 46,
      "outputs": [
        {
          "output_type": "stream",
          "text": [
            "scikit-learn                  0.21.3             \n"
          ],
          "name": "stdout"
        }
      ]
    },
    {
      "cell_type": "code",
      "metadata": {
        "colab": {
          "base_uri": "https://localhost:8080/"
        },
        "id": "A1L6B3KwA7rJ",
        "outputId": "a8c961ee-0932-4d0e-f61a-ec53387c7b10"
      },
      "source": [
        "pip uninstall scikit-learn"
      ],
      "execution_count": 47,
      "outputs": [
        {
          "output_type": "stream",
          "text": [
            "Uninstalling scikit-learn-0.21.3:\n",
            "  Would remove:\n",
            "    /usr/local/lib/python3.7/dist-packages/scikit_learn-0.21.3.dist-info/*\n",
            "    /usr/local/lib/python3.7/dist-packages/sklearn/*\n",
            "Proceed (y/n)? y\n",
            "  Successfully uninstalled scikit-learn-0.21.3\n"
          ],
          "name": "stdout"
        }
      ]
    },
    {
      "cell_type": "code",
      "metadata": {
        "colab": {
          "base_uri": "https://localhost:8080/",
          "height": 242
        },
        "id": "MX4s1UW1AiXw",
        "outputId": "d8dbafd4-bb77-4c24-e302-775ca6e3273c"
      },
      "source": [
        "pip install --upgrade scikit-learn==0.21.3\n"
      ],
      "execution_count": 48,
      "outputs": [
        {
          "output_type": "stream",
          "text": [
            "Collecting scikit-learn==0.21.3\n",
            "  Using cached https://files.pythonhosted.org/packages/9f/c5/e5267eb84994e9a92a2c6a6ee768514f255d036f3c8378acfa694e9f2c99/scikit_learn-0.21.3-cp37-cp37m-manylinux1_x86_64.whl\n",
            "Requirement already satisfied, skipping upgrade: joblib>=0.11 in /usr/local/lib/python3.7/dist-packages (from scikit-learn==0.21.3) (1.0.1)\n",
            "Requirement already satisfied, skipping upgrade: scipy>=0.17.0 in /usr/local/lib/python3.7/dist-packages (from scikit-learn==0.21.3) (1.4.1)\n",
            "Requirement already satisfied, skipping upgrade: numpy>=1.11.0 in /usr/local/lib/python3.7/dist-packages (from scikit-learn==0.21.3) (1.19.5)\n",
            "Installing collected packages: scikit-learn\n",
            "Successfully installed scikit-learn-0.21.3\n"
          ],
          "name": "stdout"
        },
        {
          "output_type": "display_data",
          "data": {
            "application/vnd.colab-display-data+json": {
              "pip_warning": {
                "packages": [
                  "sklearn"
                ]
              }
            }
          },
          "metadata": {
            "tags": []
          }
        }
      ]
    },
    {
      "cell_type": "code",
      "metadata": {
        "id": "IGI2ZVEJBP9A",
        "colab": {
          "base_uri": "https://localhost:8080/"
        },
        "outputId": "5e6b586f-57f8-40d3-9168-12538cbea43c"
      },
      "source": [
        "import pandas as pd\n",
        "import pandas as pd\n",
        "print(\"pandas version: \", pd.__version__)\n",
        "\n",
        "pd.set_option('display.max_columns', None)\n"
      ],
      "execution_count": 49,
      "outputs": [
        {
          "output_type": "stream",
          "text": [
            "pandas version:  1.1.5\n"
          ],
          "name": "stdout"
        }
      ]
    },
    {
      "cell_type": "code",
      "metadata": {
        "colab": {
          "base_uri": "https://localhost:8080/"
        },
        "id": "lOcJwQ7a9uPU",
        "outputId": "27134c68-b8f3-4cfc-ac4c-db5caf383e39"
      },
      "source": [
        "import pandas as pd\n",
        "import numpy as np\n",
        "import seaborn as sns\n",
        "import matplotlib.pyplot as plt\n",
        "%matplotlib inline\n",
        "from sklearn.model_selection import train_test_split\n",
        "import warnings\n",
        "warnings.filterwarnings('ignore')\n",
        "\n",
        "# Data import\n",
        "survey_2017 = pd.read_csv(\"../content/drive/MyDrive/final3.csv\")\n",
        "print(survey_2017.shape)\n",
        "#print(survey_2017.columns)\n",
        "survey_2016 = pd.read_csv(\"../content/drive/MyDrive/mental-heath-in-tech-2016_20161114.csv\")\n",
        "print(survey_2016.shape)\n",
        "#print(survey_2016.columns)\n",
        "\n",
        "# 2017 -> 2016 프리프로세싱 2100명 1433 -> 79~~~> 시작을할껀데 이게 어떠냐 올릴 더좋은 방법있는가? \n",
        "\n",
        "List = []\n",
        "List2 = []\n",
        "for temp in survey_2017.columns[:]:\n",
        "    #print(temp)\n",
        "    List.append(temp)\n",
        "print(List)\n",
        "print('!!!!!!!!!!!!!!!!!!!!!!!!!!!!')\n",
        "\n",
        "for temp2 in survey_2016.columns[:]:\n",
        "    List2.append(temp2)\n",
        "\n",
        "print(List2)\n",
        "\n",
        "for i in range (0,63):\n",
        "    if List[i] == List2[i]:\n",
        "        continue\n",
        "    else:\n",
        "        print(i+1)\n",
        "        print('NO');\n",
        "        print('2017:'+ List[i])\n",
        "        print('2016:' + List2[i])\n",
        "\n",
        "#for()\n",
        "\n",
        "\n",
        "#질문에 대해서 긴단어들 정리 \n",
        "#성별에 관해서 정수값으로 바꾸고 \n",
        "#나이에대해서 평균으로 preprocessing\n",
        "#10번까지 했음 \n",
        "\n",
        "#2017 11 -> x\n",
        "#2017 12 -> x\n",
        "#13번 2016질문은 2017 15문항에 있다. 2017 O -> M (O)\n",
        "#14번 다른질문 2016 14질문은 2017 12문항에 있다. 2017 L -> N (O) \n",
        "# 25 번 2016번 질문은 2017 30문항에 있다. (O)\n",
        "# 24 번 2016번 질문은 2017 29문항에 있다. (O)\n",
        "# 23 번 2016번 질문은 2017 28문항에 있다. (O)\n",
        "#2017 27 -> x\n",
        "#2017 26 -> x\n",
        "#2017 25 -> x\n",
        "#2017 24 -> x\n",
        "#2017 23 -> x\n",
        "#2017 22 -> x\n",
        "#2017 21 -> x\n",
        "#2017 20 -> x\n",
        "#2017 19 -> x\n",
        "#2017 18 -> x\n",
        "#2017 17 -> x\n",
        "#2017 16 -> x\n",
        "\n",
        "\n",
        "# 11 - 유사한 질문이나 \n",
        "# 16 -> pass\n",
        "# 20 -> 답이 다르다\n",
        "# 22 -> 답이 다르다.\n",
        "# 30 -> 없다.\n",
        "# 31,32,41,48,49,50,52,53,62,63 -> 이제 2016년도있는데 2017년도에 없어서 평균을 내서 2017년도에 넣어야한다. 2016년도께 들어가 있다. (해결 min) \n",
        "\n",
        "#42 -> 다시봐야한다.\n",
        "#55 -> 다시봐야한다.\n",
        "\n",
        "#5//25일 \n",
        "\n",
        "#내일 진행관련 1.질문 같게 정리 2.2016년도 에 있는데 2017년도에 없는 질문은 평균을내서 2017년 같은열에 넣어야한다.  95% \n",
        "#비슷질문인데 답이 다른것에대해 정리하기 5% 3일차 \n",
        "#위 모든걸 원재랑 상의 해야한다. \n",
        "\n",
        "#5/25 \n",
        "#데이터를 찍어네는데는 성공했지만  int형과 str사이 간극이 벌어진거 같음\n",
        "\n"
      ],
      "execution_count": 51,
      "outputs": [
        {
          "output_type": "stream",
          "text": [
            "(756, 122)\n",
            "(1433, 63)\n",
            "['Are you self-employed?', 'How many employees does your company or organization have?', 'Is your employer primarily a tech company/organization?', 'Is your primary role within your company related to tech/IT?', 'Does your employer provide mental health benefits as part of coverage?', 'Do you know the options for mental health care available under your employer-provided health coverage?', 'Has your employer ever formally discussed mental health (for example, as part of a wellness campaign or other official communication)?', 'Does your employer offer resources to learn more about mental health concern and options for seeking help?', 'Is your anonymity protected if you choose to take advantage of mental health or substance abuse treatment resources provided by your employer?', 'Do you think that discussing a mental health disorder with your employer would have negative consequences?', 'If a mental health issue prompted you to request a medical leave from work, asking for that leave would be:', 'Do you think that discussing a physical health issue with your employer would have negative consequences?', 'Would you feel comfortable discussing a mental health disorder with your coworkers?', 'Would you feel comfortable discussing a mental health disorder with your direct supervisor(s)?', 'Do you feel that your employer takes mental health as seriously as physical health?', 'Have you heard of or observed negative consequences for co-workers who have been open about mental health issues in your workplace?', 'Do you have medical coverage (private insurance or state-provided) which includes treatment of mental health issues?', 'Do you know local or online resources to seek help for a mental health disorder?', 'If you have been diagnosed or treated for a mental health disorder, do you ever reveal this to clients or business contacts?', 'If you have revealed a mental health issue to a client or business contact, how has this affected you or the relationship?', 'If you have been diagnosed or treated for a mental health disorder, do you ever reveal this to coworkers or employees?', 'If you have revealed a mental health disorder to a coworker or employee, how has this impacted you or the relationship?', 'Do you believe your productivity is ever affected by a mental health issue?', 'If yes, what percentage of your work time (time performing primary or secondary job functions) is affected by a mental health issue?', 'Do you have previous employers?', 'Have your previous employers provided mental health benefits?', '<strong>Were you aware of the options for mental health care provided by your previous employers?</strong>', 'Did your previous employers ever formally discuss mental health (as part of a wellness campaign or other official communication)?', 'Did your previous employers provide resources to learn more about mental health disorders and how to seek help?', 'Was your anonymity protected if you chose to take advantage of mental health or substance abuse treatment resources with previous employers?', 'Do you think that discussing a mental health disorder with previous employers would have negative consequences?', 'Do you think that discussing a physical health issue with previous employers would have negative consequences?', '<strong>Would you have been willing to discuss your mental health with your coworkers at previous employers?</strong>', 'Would you have been willing to discuss a mental health issue with your direct supervisor(s)?(N과 유사)', 'Did you feel that your previous employers took mental health as seriously as physical health?', 'Did you hear of or observe negative consequences for co-workers with mental health issues in your previous workplaces?', 'Would you be willing to bring up a physical health issue with a potential employer in an interview?', 'Why or why not?', 'Would you bring up your mental health with a potential employer in an interview?', 'Why or why not?.1', 'Do you feel that being identified as a person with a mental health issue would hurt your career?', 'If they knew you suffered from a mental health disorder, how do you think that team members/co-workers would react?', 'How willing would you be to share with friends and family that you have a mental illness?', '<strong>Have you observed or experienced an unsupportive or badly handled response to a mental health issue in your current or previous workplace?</strong>', 'Have your observations of how another individual who discussed a mental health disorder made you less likely to reveal a mental health issue yourself in your current workplace?(DB)', 'Do you have a family history of mental illness?', 'Have you had a mental health disorder in the past?', 'Do you currently have a mental health disorder?', 'If yes, what condition(s) have you been diagnosed with?', 'If maybe, what condition(s) do you believe you have?', 'Have you been diagnosed with a mental health condition by a medical professional?', 'If so, what condition(s) were you diagnosed with?', 'Have you ever sought treatment for a mental health issue from a mental health professional?', 'If you have a mental health disorder, how often do you feel that it interferes with your work <strong>when being treated effectively?</strong>', 'If you have a mental health disorder, how often do you feel that it interferes with your work <strong>when <em>NOT</em> being treated effectively (i.e., when you are experiencing symptoms)?</strong>', 'What is your age?', 'What is your gender?', 'What country do you <strong>live</strong> in?', 'What US state or territory do you <strong>live</strong> in?', 'What country do you <strong>work</strong> in?', 'What US state or territory do you <strong>work</strong> in?', 'Which of the following best describes your work position?', 'Do you work remotely?', 'Mood Disorder (Depression, Bipolar Disorder, etc)', 'Psychotic Disorder (Schizophrenia, Schizoaffective, etc)', 'Eating Disorder (Anorexia, Bulimia, etc)', 'Attention Deficit Hyperactivity Disorder', 'Personality Disorder (Borderline, Antisocial, Paranoid, etc)', 'Obsessive-Compulsive Disorder', 'Post-traumatic Stress Disorder', 'Stress Response Syndromes', 'Dissociative Disorder', 'Substance Use Disorder', 'Addictive Disorder', 'Other', 'Anxiety Disorder (Generalized, Social, Phobia, etc)', 'Mood Disorder (Depression, Bipolar Disorder, etc).1', 'Psychotic Disorder (Schizophrenia, Schizoaffective, etc).1', 'Eating Disorder (Anorexia, Bulimia, etc).1', 'Attention Deficit Hyperactivity Disorder.1', 'Personality Disorder (Borderline, Antisocial, Paranoid, etc).1', 'Obsessive-Compulsive Disorder.1', 'Post-traumatic Stress Disorder.1', 'Stress Response Syndromes.1', 'Dissociative Disorder.1', 'Substance Use Disorder.1', 'Addictive Disorder.1', 'Other.1', 'Have you had a mental health disorder in the past?.1', 'Have you been diagnosed with a mental health condition by a medical professional?.1', 'Do you have a family history of mental illness?.1', 'If you have a mental health disorder, how often do you feel that it interferes with your work <strong>when being treated effectively?</strong>.1', 'If you have a mental health disorder, how often do you feel that it interferes with your work <strong>when <em>NOT</em> being treated effectively (i.e., when you are experiencing symptoms)?</strong>.1', 'Have your observations of how another individual who discussed a mental health issue made you less likely to reveal a mental health issue yourself in your current workplace?', 'How willing would you be to share with friends and family that you have a mental illness?.1', 'Would you be willing to bring up a physical health issue with a potential employer in an interview?.1', 'Why or why not?.2', 'Would you bring up your mental health with a potential employer in an interview?.1', 'Why or why not?.3', 'Are you openly identified at work as a person with a mental health issue?', 'Has being identified as a person with a mental health issue affected your career?', 'How has it affected your career?', 'If they knew you suffered from a mental health disorder, how do you think that team members/co-workers would react?.1', '<strong>Have you observed or experienced an unsupportive or badly handled response to a mental health issue in your current or previous workplace?</strong>.1', 'Describe the circumstances of the badly handled or unsupportive response.', '<strong>Have you observed or experienced supportive or well handled response to a mental health issue in your current or previous workplace?</strong>', 'Describe the circumstances of the supportive or well handled response.', 'Overall, how well do you think the tech industry supports employees with mental health issues?', 'Briefly describe what you think the industry as a whole and/or employers could do to improve mental health support for employees.', 'If there is anything else you would like to tell us that has not been covered by the survey questions, please use this space to do so.', 'Would you be willing to talk to one of us more extensively about your experiences with mental health issues in the tech industry? (Note that all interview responses would be used <em>anonymously</em>혻and only with your permission.)', 'What is your age?(DH)', 'What is your gender?.1', 'What country do you <strong>live</strong> in?.1', 'What US state or territory do you <strong>live</strong> in?.1', 'What is your race?', 'Other.2', 'What country do you <strong>work</strong> in?.1', 'What US state or territory do you <strong>work</strong> in?.1', 'Start Date (UTC)', 'Submit Date (UTC)', 'Network ID']\n",
            "!!!!!!!!!!!!!!!!!!!!!!!!!!!!\n",
            "['Are you self-employed?', 'How many employees does your company or organization have?', 'Is your employer primarily a tech company/organization?', 'Is your primary role within your company related to tech/IT?', 'Does your employer provide mental health benefits as part of healthcare coverage?', 'Do you know the options for mental health care available under your employer-provided coverage?', 'Has your employer ever formally discussed mental health (for example, as part of a wellness campaign or other official communication)?', 'Does your employer offer resources to learn more about mental health concerns and options for seeking help?', 'Is your anonymity protected if you choose to take advantage of mental health or substance abuse treatment resources provided by your employer?', 'If a mental health issue prompted you to request a medical leave from work, asking for that leave would be:', 'Do you think that discussing a mental health disorder with your employer would have negative consequences?', 'Do you think that discussing a physical health issue with your employer would have negative consequences?', 'Would you feel comfortable discussing a mental health disorder with your coworkers?', 'Would you feel comfortable discussing a mental health disorder with your direct supervisor(s)?', 'Do you feel that your employer takes mental health as seriously as physical health?', 'Have you heard of or observed negative consequences for co-workers who have been open about mental health issues in your workplace?', 'Do you have medical coverage (private insurance or state-provided) which includes treatment of \\xa0mental health issues?', 'Do you know local or online resources to seek help for a mental health disorder?', 'If you have been diagnosed or treated for a mental health disorder, do you ever reveal this to clients or business contacts?', 'If you have revealed a mental health issue to a client or business contact, do you believe this has impacted you negatively?', 'If you have been diagnosed or treated for a mental health disorder, do you ever reveal this to coworkers or employees?', 'If you have revealed a mental health issue to a coworker or employee, do you believe this has impacted you negatively?', 'Do you believe your productivity is ever affected by a mental health issue?', 'If yes, what percentage of your work time (time performing primary or secondary job functions) is affected by a mental health issue?', 'Do you have previous employers?', 'Have your previous employers provided mental health benefits?', 'Were you aware of the options for mental health care provided by your previous employers?', 'Did your previous employers ever formally discuss mental health (as part of a wellness campaign or other official communication)?', 'Did your previous employers provide resources to learn more about mental health issues and how to seek help?', 'Was your anonymity protected if you chose to take advantage of mental health or substance abuse treatment resources with previous employers?', 'Do you think that discussing a mental health disorder with previous employers would have negative consequences?', 'Do you think that discussing a physical health issue with previous employers would have negative consequences?', 'Would you have been willing to discuss a mental health issue with your previous co-workers?', 'Would you have been willing to discuss a mental health issue with your direct supervisor(s)?', 'Did you feel that your previous employers took mental health as seriously as physical health?', 'Did you hear of or observe negative consequences for co-workers with mental health issues in your previous workplaces?', 'Would you be willing to bring up a physical health issue with a potential employer in an interview?', 'Why or why not?', 'Would you bring up a mental health issue with a potential employer in an interview?', 'Why or why not?.1', 'Do you feel that being identified as a person with a mental health issue would hurt your career?', 'Do you think that team members/co-workers would view you more negatively if they knew you suffered from a mental health issue?', 'How willing would you be to share with friends and family that you have a mental illness?', 'Have you observed or experienced an unsupportive or badly handled response to a mental health issue in your current or previous workplace?', 'Have your observations of how another individual who discussed a mental health disorder made you less likely to reveal a mental health issue yourself in your current workplace?', 'Do you have a family history of mental illness?', 'Have you had a mental health disorder in the past?', 'Do you currently have a mental health disorder?', 'If yes, what condition(s) have you been diagnosed with?', 'If maybe, what condition(s) do you believe you have?', 'Have you been diagnosed with a mental health condition by a medical professional?', 'If so, what condition(s) were you diagnosed with?', 'Have you ever sought treatment for a mental health issue from a mental health professional?', 'If you have a mental health issue, do you feel that it interferes with your work when being treated effectively?', 'If you have a mental health issue, do you feel that it interferes with your work when NOT being treated effectively?', 'What is your age?', 'What is your gender?', 'What country do you live in?', 'What US state or territory do you live in?', 'What country do you work in?', 'What US state or territory do you work in?', 'Which of the following best describes your work position?', 'Do you work remotely?']\n",
            "5\n",
            "NO\n",
            "2017:Does your employer provide mental health benefits as part of coverage?\n",
            "2016:Does your employer provide mental health benefits as part of healthcare coverage?\n",
            "6\n",
            "NO\n",
            "2017:Do you know the options for mental health care available under your employer-provided health coverage?\n",
            "2016:Do you know the options for mental health care available under your employer-provided coverage?\n",
            "8\n",
            "NO\n",
            "2017:Does your employer offer resources to learn more about mental health concern and options for seeking help?\n",
            "2016:Does your employer offer resources to learn more about mental health concerns and options for seeking help?\n",
            "10\n",
            "NO\n",
            "2017:Do you think that discussing a mental health disorder with your employer would have negative consequences?\n",
            "2016:If a mental health issue prompted you to request a medical leave from work, asking for that leave would be:\n",
            "11\n",
            "NO\n",
            "2017:If a mental health issue prompted you to request a medical leave from work, asking for that leave would be:\n",
            "2016:Do you think that discussing a mental health disorder with your employer would have negative consequences?\n",
            "17\n",
            "NO\n",
            "2017:Do you have medical coverage (private insurance or state-provided) which includes treatment of mental health issues?\n",
            "2016:Do you have medical coverage (private insurance or state-provided) which includes treatment of  mental health issues?\n",
            "20\n",
            "NO\n",
            "2017:If you have revealed a mental health issue to a client or business contact, how has this affected you or the relationship?\n",
            "2016:If you have revealed a mental health issue to a client or business contact, do you believe this has impacted you negatively?\n",
            "22\n",
            "NO\n",
            "2017:If you have revealed a mental health disorder to a coworker or employee, how has this impacted you or the relationship?\n",
            "2016:If you have revealed a mental health issue to a coworker or employee, do you believe this has impacted you negatively?\n",
            "27\n",
            "NO\n",
            "2017:<strong>Were you aware of the options for mental health care provided by your previous employers?</strong>\n",
            "2016:Were you aware of the options for mental health care provided by your previous employers?\n",
            "29\n",
            "NO\n",
            "2017:Did your previous employers provide resources to learn more about mental health disorders and how to seek help?\n",
            "2016:Did your previous employers provide resources to learn more about mental health issues and how to seek help?\n",
            "33\n",
            "NO\n",
            "2017:<strong>Would you have been willing to discuss your mental health with your coworkers at previous employers?</strong>\n",
            "2016:Would you have been willing to discuss a mental health issue with your previous co-workers?\n",
            "34\n",
            "NO\n",
            "2017:Would you have been willing to discuss a mental health issue with your direct supervisor(s)?(N과 유사)\n",
            "2016:Would you have been willing to discuss a mental health issue with your direct supervisor(s)?\n",
            "39\n",
            "NO\n",
            "2017:Would you bring up your mental health with a potential employer in an interview?\n",
            "2016:Would you bring up a mental health issue with a potential employer in an interview?\n",
            "42\n",
            "NO\n",
            "2017:If they knew you suffered from a mental health disorder, how do you think that team members/co-workers would react?\n",
            "2016:Do you think that team members/co-workers would view you more negatively if they knew you suffered from a mental health issue?\n",
            "44\n",
            "NO\n",
            "2017:<strong>Have you observed or experienced an unsupportive or badly handled response to a mental health issue in your current or previous workplace?</strong>\n",
            "2016:Have you observed or experienced an unsupportive or badly handled response to a mental health issue in your current or previous workplace?\n",
            "45\n",
            "NO\n",
            "2017:Have your observations of how another individual who discussed a mental health disorder made you less likely to reveal a mental health issue yourself in your current workplace?(DB)\n",
            "2016:Have your observations of how another individual who discussed a mental health disorder made you less likely to reveal a mental health issue yourself in your current workplace?\n",
            "54\n",
            "NO\n",
            "2017:If you have a mental health disorder, how often do you feel that it interferes with your work <strong>when being treated effectively?</strong>\n",
            "2016:If you have a mental health issue, do you feel that it interferes with your work when being treated effectively?\n",
            "55\n",
            "NO\n",
            "2017:If you have a mental health disorder, how often do you feel that it interferes with your work <strong>when <em>NOT</em> being treated effectively (i.e., when you are experiencing symptoms)?</strong>\n",
            "2016:If you have a mental health issue, do you feel that it interferes with your work when NOT being treated effectively?\n",
            "58\n",
            "NO\n",
            "2017:What country do you <strong>live</strong> in?\n",
            "2016:What country do you live in?\n",
            "59\n",
            "NO\n",
            "2017:What US state or territory do you <strong>live</strong> in?\n",
            "2016:What US state or territory do you live in?\n",
            "60\n",
            "NO\n",
            "2017:What country do you <strong>work</strong> in?\n",
            "2016:What country do you work in?\n",
            "61\n",
            "NO\n",
            "2017:What US state or territory do you <strong>work</strong> in?\n",
            "2016:What US state or territory do you work in?\n"
          ],
          "name": "stdout"
        }
      ]
    },
    {
      "cell_type": "code",
      "metadata": {
        "id": "VQ8GmW10BqYx",
        "colab": {
          "base_uri": "https://localhost:8080/"
        },
        "outputId": "f1777b32-ce6e-4ed3-fefc-129b8d5f5536"
      },
      "source": [
        "import pandas as pd\n",
        "import numpy as np\n",
        "import seaborn as sns\n",
        "import matplotlib.pyplot as plt\n",
        "%matplotlib inline\n",
        "from sklearn.model_selection import train_test_split\n",
        "import warnings\n",
        "warnings.filterwarnings('ignore')\n",
        "\n",
        "# Data import\n",
        "#survey_2015 = pd.read_csv(\"../content/drive/MyDrive/mental-heath-in-tech-2016_20161114.csv\")\n",
        "survey_2016 = pd.read_csv(\"../content/drive/MyDrive/final_test1.csv\")\n",
        "#print(survey_2016.columns)\n",
        "#print(survey_2016.shape)\n",
        "#print(survey_2015.shape)\n",
        "#print(survey_2016.iloc[1320:1425])\n",
        "\n",
        "# ----------- CLEANING THE DATA -----------\n",
        "# Column rename\n",
        "renamed_columns = ['self_empl_flag', 'comp_no_empl', 'tech_comp_flag', 'tech_role_flag', 'mh_coverage_flag',\n",
        "                  'mh_coverage_awareness_flag', 'mh_employer_discussion', 'mh_resources_provided', 'mh_anonimity_flag',\n",
        "                  'mh_medical_leave', 'mh_discussion_neg_impact', 'ph_discussion_neg_impact', 'mh_discussion_cowork',\n",
        "                  'mh_discussion_supervis', 'mh_eq_ph_employer', 'mh_conseq_coworkers', 'mh_coverage_flag2', 'mh_online_res_flag',\n",
        "                  'mh_diagnosed&reveal_clients_flag', 'mh_diagnosed&reveal_clients_impact', 'mh_diagnosed&reveal_cowork_flag', 'mh_cowork_reveal_neg_impact',\n",
        "                  'mh_prod_impact', 'mh_prod_impact_perc', 'prev_employers_flag', 'prev_mh_benefits', 'prev_mh_benefits_awareness',\n",
        "                  'prev_mh_discussion', 'prev_mh_resources', 'prev_mh_anonimity', 'prev_mh_discuss_neg_conseq', 'prev_ph_discuss_neg_conseq',\n",
        "                  'prev_mh_discussion_cowork', 'prev_mh_discussion_supervisor', 'prev_mh_importance_employer', 'prev_mh_conseq_coworkers',\n",
        "                  'future_ph_specification', 'why/why_not', 'future_mh_specification', 'why/why_not2', 'mh_hurt_on_career', 'mh_neg_view_cowork',\n",
        "                  'mh_sharing_friends/fam_flag', 'mh_bad_response_workplace', 'mh_for_others_bad_response_workplace', 'mh_family_hist',\n",
        "                  'mh_disorder_past', 'mh_disorder_current',  'mh_diagnos_proffesional',\n",
        "                   'mh_sought_proffes_treatm', 'mh_eff_treat_impact_on_work', 'mh_not_eff_treat_impact_on_work',\n",
        "                  'age', 'sex', 'country_live', 'live_us_teritory', 'country_work', 'work_us_teritory']\n",
        "survey_2016.columns = renamed_columns\n",
        "print(survey_2016.shape)\n",
        "#survey_2015.columns = renamed_columns\n",
        "#print('질문 정리가 이렇게 바뀌었다')\n",
        "#print(survey_2016.columns)\n",
        "#print('!!!!!!!!!!')\n",
        "#print(survey_2016['sex'])\n",
        "# Sex column needs to be recoded (number of unique values = 70)\n",
        "survey_2016['sex'].replace(to_replace = ['Male', 'male', 'Male ', 'M', 'm',\n",
        "       'man', 'Cis male', 'Male.', 'male 9:1 female, roughly', 'Male (cis)', 'Man', 'Sex is male',\n",
        "       'cis male', 'Malr', 'Dude', \"I'm a man why didn't you make this a drop down question. You should of asked sex? And I would of answered yes please. Seriously how much text can this take? \",\n",
        "       'mail', 'M|', 'Male/genderqueer', 'male ',\n",
        "       'Cis Male', 'Male (trans, FtM)',\n",
        "       'cisdude', 'cis man', 'MALE'], value = 1, inplace = True)\n",
        "\n",
        "survey_2016['sex'].replace(to_replace = ['Female', 'female', 'I identify as female.', 'female ',\n",
        "       'Female assigned at birth ', 'F', 'Woman', 'fm', 'f', 'Cis female ', 'Transitioned, M2F',\n",
        "       'Genderfluid (born female)', 'Female or Multi-Gender Femme', 'Female ', 'woman', 'female/woman',\n",
        "       'Cisgender Female', 'fem', 'Female (props for making this a freeform field, though)',\n",
        "       ' Female', 'Cis-woman', 'female-bodied; no feelings about gender',\n",
        "       'AFAB'], value = 2, inplace = True)\n",
        "\n",
        "survey_2016['sex'].replace(to_replace = ['Bigender', 'non-binary', 'Other/Transfeminine',\n",
        "       'Androgynous', 'Other', 'nb masculine',\n",
        "       'none of your business', 'genderqueer', 'Human', 'Genderfluid',\n",
        "       'Enby', 'genderqueer woman', 'mtf', 'Queer', 'Agender', 'Fluid',\n",
        "       'Nonbinary', 'human', 'Unicorn', 'Genderqueer',\n",
        "       'Genderflux demi-girl', 'Transgender woman'], value = 3, inplace = True)\n",
        "#print('성별 정리가 이렇게 바뀌었다.')\n",
        "#print(survey_2016['sex'])\n",
        "# Recode Comp size & country columns (for ease when doing plots)\n",
        "survey_2016['comp_no_empl'].replace(to_replace = ['More than 1000'], value = '>1000', inplace = True)\n",
        "survey_2016['country_live'].replace(to_replace = ['United States of America'], value = 'USA', inplace = True)\n",
        "survey_2016['country_live'].replace(to_replace = ['United Kingdom'], value = 'UK', inplace = True)\n",
        "survey_2016['country_work'].replace(to_replace = ['United States of America'], value = 'USA', inplace = True)\n",
        "survey_2016['country_work'].replace(to_replace = ['United Kingdom'], value = 'UK', inplace = True)\n",
        "\n",
        "# Max age is 323, min age is 3.\n",
        "# There are only 5 people that have weird ages (3yo, 15yo, or 99yo or 323 yo.) \n",
        "# These people will take the average age of the dataset (the correct calculated one, w/out outliers)\n",
        "mean_age = survey_2016[(survey_2016['age'] >= 18) | (survey_2016['age'] <= 75)]['age'].mean()\n",
        "survey_2016['age'].replace(to_replace = survey_2016[(survey_2016['age'] < 18) | (survey_2016['age'] > 75)]['age'].tolist(),\n",
        "                          value = mean_age, inplace = True)\n",
        "print('바뀐후')\n",
        "print(survey_2016)\n",
        "#print(survey_2016.iloc[1320:1425])\n",
        "\n",
        "#질문에 대해서 긴단어들 정리 \n",
        "#성별에 관해서 정수값으로 바꾸고 \n",
        "#나이에대해서 평균으로 preprocessing\n"
      ],
      "execution_count": 52,
      "outputs": [
        {
          "output_type": "stream",
          "text": [
            "(2189, 58)\n",
            "바뀐후\n"
          ],
          "name": "stdout"
        },
        {
          "output_type": "stream",
          "text": [
            "IOPub data rate exceeded.\n",
            "The notebook server will temporarily stop sending output\n",
            "to the client in order to avoid crashing it.\n",
            "To change this limit, set the config variable\n",
            "`--NotebookApp.iopub_data_rate_limit`.\n",
            "\n",
            "Current values:\n",
            "NotebookApp.iopub_data_rate_limit=1000000.0 (bytes/sec)\n",
            "NotebookApp.rate_limit_window=3.0 (secs)\n",
            "\n"
          ],
          "name": "stderr"
        }
      ]
    },
    {
      "cell_type": "code",
      "metadata": {
        "id": "c_DKxbxQ58Hb",
        "colab": {
          "base_uri": "https://localhost:8080/",
          "height": 478
        },
        "outputId": "63da5fdc-4a36-4350-e48c-e8297d8a0b47"
      },
      "source": [
        " print(sns)\n",
        " plt.figure(figsize = (16,4))\n",
        " sns.heatmap(data = survey_2016.isna());\n",
        "#heatmap을 그려봄 으로써 어떤데이터있어 분포의 차이가 있는지 확인한 코드 "
      ],
      "execution_count": 54,
      "outputs": [
        {
          "output_type": "stream",
          "text": [
            "<module 'seaborn' from '/usr/local/lib/python3.7/dist-packages/seaborn/__init__.py'>\n"
          ],
          "name": "stdout"
        },
        {
          "output_type": "display_data",
          "data": {
            "image/png": "[encoded data removed]",
            "text/plain": [
              "<Figure size 1152x288 with 2 Axes>"
            ]
          },
          "metadata": {
            "tags": [],
            "needs_background": "light"
          }
        }
      ]
    },
    {
      "cell_type": "code",
      "metadata": {
        "colab": {
          "base_uri": "https://localhost:8080/"
        },
        "id": "kGfQmV3drNGX",
        "outputId": "05210c66-ae0f-4961-c2b9-77a7cf227022"
      },
      "source": [
        "# The survey has 1433 rows, so first we will drop all columns where more than half of the observations have missing values\n",
        "cols = (survey_2016.isna().sum() >= survey_2016.shape[0]/2).tolist()\n",
        "#print(cols)\n",
        "to_drop = survey_2016.columns[cols]\n",
        "survey_2016.drop(labels = to_drop, axis = 1, inplace = True)\n",
        "print(survey_2016)\n",
        "# Dealing with other missing values\n",
        "from sklearn.impute import SimpleImputer"
      ],
      "execution_count": 55,
      "outputs": [
        {
          "output_type": "stream",
          "text": [
            "IOPub data rate exceeded.\n",
            "The notebook server will temporarily stop sending output\n",
            "to the client in order to avoid crashing it.\n",
            "To change this limit, set the config variable\n",
            "`--NotebookApp.iopub_data_rate_limit`.\n",
            "\n",
            "Current values:\n",
            "NotebookApp.iopub_data_rate_limit=1000000.0 (bytes/sec)\n",
            "NotebookApp.rate_limit_window=3.0 (secs)\n",
            "\n"
          ],
          "name": "stderr"
        }
      ]
    },
    {
      "cell_type": "code",
      "metadata": {
        "colab": {
          "base_uri": "https://localhost:8080/"
        },
        "id": "Jg1-irXQT6Ho",
        "outputId": "15be4c45-67d7-4be2-a175-01cf42a87df4"
      },
      "source": [
        "import pandas as pd\n",
        "print(\"pandas version: \", pd.__version__)\n",
        "\n",
        "pd.set_option('display.max_rows', None)\n"
      ],
      "execution_count": 57,
      "outputs": [
        {
          "output_type": "stream",
          "text": [
            "pandas version:  1.1.5\n"
          ],
          "name": "stdout"
        }
      ]
    },
    {
      "cell_type": "code",
      "metadata": {
        "id": "JCT1ZZz6wTQ5"
      },
      "source": [
        "#survey_2016"
      ],
      "execution_count": 76,
      "outputs": []
    },
    {
      "cell_type": "code",
      "metadata": {
        "id": "fJAGv2Wg6cS8",
        "colab": {
          "base_uri": "https://localhost:8080/"
        },
        "outputId": "18455001-bf5f-4e35-d240-0ad829293140"
      },
      "source": [
        "\n",
        "# Impute nan with the most frequent value (mode) on every row\n",
        "imp = SimpleImputer(missing_values=np.nan, strategy='most_frequent')\n",
        "# 여기서 결측치를 제거 합니다. \n",
        "print(imp)\n",
        "#encoder.fit_transform(imp[:].astype(str))\n",
        "imp.fit(survey_2016)\n",
        "imp_data = pd.DataFrame(data = imp.transform(survey_2016), columns = survey_2016.columns)\n",
        "print(imp_data)"
      ],
      "execution_count": 59,
      "outputs": [
        {
          "output_type": "stream",
          "text": [
            "SimpleImputer(add_indicator=False, copy=True, fill_value=None,\n",
            "              missing_values=nan, strategy='most_frequent', verbose=0)\n"
          ],
          "name": "stdout"
        },
        {
          "output_type": "stream",
          "text": [
            "IOPub data rate exceeded.\n",
            "The notebook server will temporarily stop sending output\n",
            "to the client in order to avoid crashing it.\n",
            "To change this limit, set the config variable\n",
            "`--NotebookApp.iopub_data_rate_limit`.\n",
            "\n",
            "Current values:\n",
            "NotebookApp.iopub_data_rate_limit=1000000.0 (bytes/sec)\n",
            "NotebookApp.rate_limit_window=3.0 (secs)\n",
            "\n"
          ],
          "name": "stderr"
        }
      ]
    },
    {
      "cell_type": "code",
      "metadata": {
        "id": "2EbJHqfU6z6d",
        "colab": {
          "base_uri": "https://localhost:8080/"
        },
        "outputId": "fc984e73-5dd4-452f-836f-ecb58efa1eee"
      },
      "source": [
        "# ----------- ENCODING -----------\n",
        "# Split data into 2 datasets: one that needs to be encoded, one that doesnt need to\n",
        "cols = [x for x in imp_data.columns if x not in ['age', 'why/why_not', 'why/why_not2', 'country_live',\n",
        "       'live_us_teritory', 'country_work', 'work_us_teritory', 'work_position']]\n",
        "\n",
        "data_to_encode = imp_data[cols]\n",
        "data_not_encode = imp_data[['why/why_not', 'why/why_not2', 'country_live',\n",
        "       'live_us_teritory', 'country_work', 'work_us_teritory']]\n",
        "\n",
        "# Importing OneHotEncoder\n",
        "from sklearn.preprocessing import OneHotEncoder\n",
        "from sklearn.preprocessing import LabelEncoder\n",
        "\n",
        "def encode(data):\n",
        "    cat_columns = list(data.select_dtypes(include=['category','object']))\n",
        "    column_mask = []\n",
        "    \n",
        "    for column_name in list(data.columns.values):\n",
        "        column_mask.append(column_name in cat_columns)\n",
        "\n",
        "    le = LabelEncoder()\n",
        "    ohe = OneHotEncoder(categorical_features = column_mask)\n",
        "    \n",
        "    for col in cat_columns:\n",
        "        data[col] = le.fit_transform(data[col])\n",
        "    data = ohe.fit_transform(data)\n",
        "    \n",
        "    return data\n",
        "\n",
        "encode(data_to_encode)\n",
        "matrix = encode(data_to_encode)\n",
        "encoded_data = pd.DataFrame(matrix) # to dataframe\n",
        "print(encoded_data.shape)\n",
        "print(data_not_encode.shape)\n",
        "encoded_data.columns = data_to_encode.columns\n",
        "\n",
        "# Preprocessed data\n",
        "prep_data = pd.concat(objs = [encoded_data, data_not_encode], axis = 1)  \n",
        "#print(prep_data) \n"
      ],
      "execution_count": 60,
      "outputs": [
        {
          "output_type": "stream",
          "text": [
            "(2189, 41)\n",
            "(2189, 6)\n"
          ],
          "name": "stdout"
        }
      ]
    },
    {
      "cell_type": "code",
      "metadata": {
        "id": "ZTXZPS907V3k",
        "colab": {
          "base_uri": "https://localhost:8080/",
          "height": 137
        },
        "outputId": "4ca394c2-5485-41f4-efd4-2cf019bc7fb1"
      },
      "source": [
        "# ----------- OTHER CHANGES -----------\n",
        "# There are 53 total countries\n",
        "# Out of all, most respondents are in US, UK, Canada, Germany, Netherlands and Australia.\n",
        "# Usually, for a sample to be representative enough for the population, the size needs to be by convention >30.\n",
        "# Respondents cannot be treated equaly within a response (different background, culture etc.), so we will exclude all nations\n",
        "        #with a sample size smaller than 30. Because countries with no. responses > 30 are quite similar (well developed countries\n",
        "        #with big economies and similar living standards), some of the analytics will incorporate all countries as one.\n",
        "\n",
        "# Keep only countries with no. responses > 30.\n",
        "imp_data = imp_data[imp_data['country_work'].isin(['USA', 'UK', 'Canada', \n",
        "                                                   'Germany', 'Netherlands','Australia'])]\n",
        "imp_data = imp_data[imp_data['country_live'].isin(['USA', 'UK', 'Canada', \n",
        "                                                   'Germany', 'Netherlands','Australia'])]\n",
        "\n",
        "prep_data = prep_data[prep_data['country_work'].isin(['USA', 'UK', 'Canada', \n",
        "                                                   'Germany', 'Netherlands','Australia'])]\n",
        "prep_data = prep_data[prep_data['country_live'].isin(['USA', 'UK', 'Canada', \n",
        "                                                   'Germany', 'Netherlands','Australia'])]\n",
        "\n",
        "# Unfortunatelly, the tech flag that identified if the respondent works/ doesn't work in tech had a lot of missing values\n",
        "# So, we will need to map the 'work_position' column (that didn't have any missing values initially)\n",
        "# Create the list with tech work positions\n",
        "\"\"\"\n",
        "tech_list = []\n",
        "tech_list.append(imp_data[imp_data['work_position'].str.contains('Back-end')]['work_position'].tolist())\n",
        "tech_list.append(imp_data[imp_data['work_position'].str.contains('Front-end')]['work_position'].tolist())\n",
        "tech_list.append(imp_data[imp_data['work_position'].str.contains('Dev')]['work_position'].tolist())\n",
        "tech_list.append(imp_data[imp_data['work_position'].str.contains('DevOps')]['work_position'].tolist())\n",
        "\n",
        "# Reshape the list (that is a list of lists) and remove duplicates\n",
        "flat_list = [item for sublist in tech_list for item in sublist]\n",
        "flat_list = list(dict.fromkeys(flat_list))\n",
        "\n",
        "# Create a new column and recode it\n",
        "imp_data['tech_flag'] = imp_data['work_position']\n",
        "imp_data['tech_flag'].replace(to_replace = flat_list, value = 1, inplace = True)\n",
        "\n",
        "# The other items - non tech\n",
        "remain_list = imp_data['tech_flag'].unique()[1:].tolist()\n",
        "\n",
        "imp_data['tech_flag'].replace(to_replace = remain_list, value = 0, inplace = True)\n",
        "\n",
        "# The same for prep_data\n",
        "# Create a new column and recode it\n",
        "prep_data['tech_flag'] = prep_data['work_position']\n",
        "prep_data['tech_flag'].replace(to_replace = flat_list, value = 1, inplace = True)\n",
        "\n",
        "# The other items - non tech\n",
        "prep_data['tech_flag'].replace(to_replace = remain_list, value = 0, inplace = True)\n",
        "\"\"\""
      ],
      "execution_count": 61,
      "outputs": [
        {
          "output_type": "execute_result",
          "data": {
            "application/vnd.google.colaboratory.intrinsic+json": {
              "type": "string"
            },
            "text/plain": [
              "\"\\ntech_list = []\\ntech_list.append(imp_data[imp_data['work_position'].str.contains('Back-end')]['work_position'].tolist())\\ntech_list.append(imp_data[imp_data['work_position'].str.contains('Front-end')]['work_position'].tolist())\\ntech_list.append(imp_data[imp_data['work_position'].str.contains('Dev')]['work_position'].tolist())\\ntech_list.append(imp_data[imp_data['work_position'].str.contains('DevOps')]['work_position'].tolist())\\n\\n# Reshape the list (that is a list of lists) and remove duplicates\\nflat_list = [item for sublist in tech_list for item in sublist]\\nflat_list = list(dict.fromkeys(flat_list))\\n\\n# Create a new column and recode it\\nimp_data['tech_flag'] = imp_data['work_position']\\nimp_data['tech_flag'].replace(to_replace = flat_list, value = 1, inplace = True)\\n\\n# The other items - non tech\\nremain_list = imp_data['tech_flag'].unique()[1:].tolist()\\n\\nimp_data['tech_flag'].replace(to_replace = remain_list, value = 0, inplace = True)\\n\\n# The same for prep_data\\n# Create a new column and recode it\\nprep_data['tech_flag'] = prep_data['work_position']\\nprep_data['tech_flag'].replace(to_replace = flat_list, value = 1, inplace = True)\\n\\n# The other items - non tech\\nprep_data['tech_flag'].replace(to_replace = remain_list, value = 0, inplace = True)\\n\""
            ]
          },
          "metadata": {
            "tags": []
          },
          "execution_count": 61
        }
      ]
    },
    {
      "cell_type": "code",
      "metadata": {
        "colab": {
          "base_uri": "https://localhost:8080/"
        },
        "id": "VebfRKVvb1JY",
        "outputId": "0af793ba-b056-45d7-9d68-458782c9577c"
      },
      "source": [
        "print(prep_data.shape)"
      ],
      "execution_count": 62,
      "outputs": [
        {
          "output_type": "stream",
          "text": [
            "(1873, 47)\n"
          ],
          "name": "stdout"
        }
      ]
    },
    {
      "cell_type": "markdown",
      "metadata": {
        "id": "uwGk2siXbkhB"
      },
      "source": [
        "나라 중에 30개가 넘는 표본을 추출 및 기술직군애 관해 분리해서 다시 preprocessing 하는것"
      ]
    },
    {
      "cell_type": "code",
      "metadata": {
        "id": "JKlm3aMxcWMj"
      },
      "source": [
        "import matplotlib as mpl\n",
        "sns.set_style('whitegrid')\n",
        "sns.set_palette('Set2')\n",
        "mpl.rcParams['font.size'] = 16\n",
        "import matplotlib.gridspec as gridspec"
      ],
      "execution_count": 63,
      "outputs": []
    },
    {
      "cell_type": "code",
      "metadata": {
        "colab": {
          "base_uri": "https://localhost:8080/",
          "height": 562
        },
        "id": "gxSbKtH4CJOc",
        "outputId": "133b326c-8ec7-482e-c5c3-275989cdd1ce"
      },
      "source": [
        "#imp_data[imp_data['tech_flag'] == 1]['age'].describe()"
      ],
      "execution_count": 64,
      "outputs": [
        {
          "output_type": "error",
          "ename": "KeyError",
          "evalue": "ignored",
          "traceback": [
            "\u001b[0;31m---------------------------------------------------------------------------\u001b[0m",
            "\u001b[0;31mKeyError\u001b[0m                                  Traceback (most recent call last)",
            "\u001b[0;32m/usr/local/lib/python3.7/dist-packages/pandas/core/indexes/base.py\u001b[0m in \u001b[0;36mget_loc\u001b[0;34m(self, key, method, tolerance)\u001b[0m\n\u001b[1;32m   2897\u001b[0m             \u001b[0;32mtry\u001b[0m\u001b[0;34m:\u001b[0m\u001b[0;34m\u001b[0m\u001b[0;34m\u001b[0m\u001b[0m\n\u001b[0;32m-> 2898\u001b[0;31m                 \u001b[0;32mreturn\u001b[0m \u001b[0mself\u001b[0m\u001b[0;34m.\u001b[0m\u001b[0m_engine\u001b[0m\u001b[0;34m.\u001b[0m\u001b[0mget_loc\u001b[0m\u001b[0;34m(\u001b[0m\u001b[0mcasted_key\u001b[0m\u001b[0;34m)\u001b[0m\u001b[0;34m\u001b[0m\u001b[0;34m\u001b[0m\u001b[0m\n\u001b[0m\u001b[1;32m   2899\u001b[0m             \u001b[0;32mexcept\u001b[0m \u001b[0mKeyError\u001b[0m \u001b[0;32mas\u001b[0m \u001b[0merr\u001b[0m\u001b[0;34m:\u001b[0m\u001b[0;34m\u001b[0m\u001b[0;34m\u001b[0m\u001b[0m\n",
            "\u001b[0;32mpandas/_libs/index.pyx\u001b[0m in \u001b[0;36mpandas._libs.index.IndexEngine.get_loc\u001b[0;34m()\u001b[0m\n",
            "\u001b[0;32mpandas/_libs/index.pyx\u001b[0m in \u001b[0;36mpandas._libs.index.IndexEngine.get_loc\u001b[0;34m()\u001b[0m\n",
            "\u001b[0;32mpandas/_libs/hashtable_class_helper.pxi\u001b[0m in \u001b[0;36mpandas._libs.hashtable.PyObjectHashTable.get_item\u001b[0;34m()\u001b[0m\n",
            "\u001b[0;32mpandas/_libs/hashtable_class_helper.pxi\u001b[0m in \u001b[0;36mpandas._libs.hashtable.PyObjectHashTable.get_item\u001b[0;34m()\u001b[0m\n",
            "\u001b[0;31mKeyError\u001b[0m: 'tech_flag'",
            "\nThe above exception was the direct cause of the following exception:\n",
            "\u001b[0;31mKeyError\u001b[0m                                  Traceback (most recent call last)",
            "\u001b[0;32m<ipython-input-64-6e5375e12830>\u001b[0m in \u001b[0;36m<module>\u001b[0;34m()\u001b[0m\n\u001b[0;32m----> 1\u001b[0;31m \u001b[0mimp_data\u001b[0m\u001b[0;34m[\u001b[0m\u001b[0mimp_data\u001b[0m\u001b[0;34m[\u001b[0m\u001b[0;34m'tech_flag'\u001b[0m\u001b[0;34m]\u001b[0m \u001b[0;34m==\u001b[0m \u001b[0;36m1\u001b[0m\u001b[0;34m]\u001b[0m\u001b[0;34m[\u001b[0m\u001b[0;34m'age'\u001b[0m\u001b[0;34m]\u001b[0m\u001b[0;34m.\u001b[0m\u001b[0mdescribe\u001b[0m\u001b[0;34m(\u001b[0m\u001b[0;34m)\u001b[0m\u001b[0;34m\u001b[0m\u001b[0;34m\u001b[0m\u001b[0m\n\u001b[0m",
            "\u001b[0;32m/usr/local/lib/python3.7/dist-packages/pandas/core/frame.py\u001b[0m in \u001b[0;36m__getitem__\u001b[0;34m(self, key)\u001b[0m\n\u001b[1;32m   2904\u001b[0m             \u001b[0;32mif\u001b[0m \u001b[0mself\u001b[0m\u001b[0;34m.\u001b[0m\u001b[0mcolumns\u001b[0m\u001b[0;34m.\u001b[0m\u001b[0mnlevels\u001b[0m \u001b[0;34m>\u001b[0m \u001b[0;36m1\u001b[0m\u001b[0;34m:\u001b[0m\u001b[0;34m\u001b[0m\u001b[0;34m\u001b[0m\u001b[0m\n\u001b[1;32m   2905\u001b[0m                 \u001b[0;32mreturn\u001b[0m \u001b[0mself\u001b[0m\u001b[0;34m.\u001b[0m\u001b[0m_getitem_multilevel\u001b[0m\u001b[0;34m(\u001b[0m\u001b[0mkey\u001b[0m\u001b[0;34m)\u001b[0m\u001b[0;34m\u001b[0m\u001b[0;34m\u001b[0m\u001b[0m\n\u001b[0;32m-> 2906\u001b[0;31m             \u001b[0mindexer\u001b[0m \u001b[0;34m=\u001b[0m \u001b[0mself\u001b[0m\u001b[0;34m.\u001b[0m\u001b[0mcolumns\u001b[0m\u001b[0;34m.\u001b[0m\u001b[0mget_loc\u001b[0m\u001b[0;34m(\u001b[0m\u001b[0mkey\u001b[0m\u001b[0;34m)\u001b[0m\u001b[0;34m\u001b[0m\u001b[0;34m\u001b[0m\u001b[0m\n\u001b[0m\u001b[1;32m   2907\u001b[0m             \u001b[0;32mif\u001b[0m \u001b[0mis_integer\u001b[0m\u001b[0;34m(\u001b[0m\u001b[0mindexer\u001b[0m\u001b[0;34m)\u001b[0m\u001b[0;34m:\u001b[0m\u001b[0;34m\u001b[0m\u001b[0;34m\u001b[0m\u001b[0m\n\u001b[1;32m   2908\u001b[0m                 \u001b[0mindexer\u001b[0m \u001b[0;34m=\u001b[0m \u001b[0;34m[\u001b[0m\u001b[0mindexer\u001b[0m\u001b[0;34m]\u001b[0m\u001b[0;34m\u001b[0m\u001b[0;34m\u001b[0m\u001b[0m\n",
            "\u001b[0;32m/usr/local/lib/python3.7/dist-packages/pandas/core/indexes/base.py\u001b[0m in \u001b[0;36mget_loc\u001b[0;34m(self, key, method, tolerance)\u001b[0m\n\u001b[1;32m   2898\u001b[0m                 \u001b[0;32mreturn\u001b[0m \u001b[0mself\u001b[0m\u001b[0;34m.\u001b[0m\u001b[0m_engine\u001b[0m\u001b[0;34m.\u001b[0m\u001b[0mget_loc\u001b[0m\u001b[0;34m(\u001b[0m\u001b[0mcasted_key\u001b[0m\u001b[0;34m)\u001b[0m\u001b[0;34m\u001b[0m\u001b[0;34m\u001b[0m\u001b[0m\n\u001b[1;32m   2899\u001b[0m             \u001b[0;32mexcept\u001b[0m \u001b[0mKeyError\u001b[0m \u001b[0;32mas\u001b[0m \u001b[0merr\u001b[0m\u001b[0;34m:\u001b[0m\u001b[0;34m\u001b[0m\u001b[0;34m\u001b[0m\u001b[0m\n\u001b[0;32m-> 2900\u001b[0;31m                 \u001b[0;32mraise\u001b[0m \u001b[0mKeyError\u001b[0m\u001b[0;34m(\u001b[0m\u001b[0mkey\u001b[0m\u001b[0;34m)\u001b[0m \u001b[0;32mfrom\u001b[0m \u001b[0merr\u001b[0m\u001b[0;34m\u001b[0m\u001b[0;34m\u001b[0m\u001b[0m\n\u001b[0m\u001b[1;32m   2901\u001b[0m \u001b[0;34m\u001b[0m\u001b[0m\n\u001b[1;32m   2902\u001b[0m         \u001b[0;32mif\u001b[0m \u001b[0mtolerance\u001b[0m \u001b[0;32mis\u001b[0m \u001b[0;32mnot\u001b[0m \u001b[0;32mNone\u001b[0m\u001b[0;34m:\u001b[0m\u001b[0;34m\u001b[0m\u001b[0;34m\u001b[0m\u001b[0m\n",
            "\u001b[0;31mKeyError\u001b[0m: 'tech_flag'"
          ]
        }
      ]
    },
    {
      "cell_type": "code",
      "metadata": {
        "id": "Uge_8_l87dQv"
      },
      "source": [
        "import matplotlib as mpl\n",
        "sns.set_style('whitegrid')\n",
        "sns.set_palette('Set2')\n",
        "mpl.rcParams['font.size'] = 16\n",
        "import matplotlib.gridspec as gridspec"
      ],
      "execution_count": 65,
      "outputs": []
    },
    {
      "cell_type": "code",
      "metadata": {
        "id": "sMBDIqJ18yG_"
      },
      "source": [
        "from sklearn.naive_bayes import GaussianNB\n",
        "from sklearn.linear_model import SGDClassifier, LogisticRegression\n",
        "from sklearn.neighbors import KNeighborsClassifier\n",
        "from sklearn.tree import DecisionTreeClassifier\n",
        "from sklearn.ensemble import RandomForestClassifier\n",
        "from sklearn.svm import SVC\n",
        "from sklearn.neural_network import MLPClassifier\n",
        "from xgboost import XGBClassifier, XGBRFClassifier\n",
        "\n",
        "from sklearn.metrics import confusion_matrix, accuracy_score, roc_auc_score, roc_curve\n",
        "from sklearn import preprocessing"
      ],
      "execution_count": 66,
      "outputs": []
    },
    {
      "cell_type": "code",
      "metadata": {
        "id": "CSWKDUbi878P"
      },
      "source": [
        "# Excluding non numeric columns from dataset\n",
        "model_data = prep_data.copy()\n",
        "col_numeric = [cols for cols in model_data.columns if model_data[cols].dtype in ['int64', 'float64']]\n",
        "model_data = model_data[col_numeric]\n",
        "\n",
        "# Model data is our new dataset for predicting variable 'mh_disorder_current'\n",
        "\n",
        "# Feature variables and target variable\n",
        "y = model_data['mh_disorder_current']\n",
        "\n",
        "cols = [col for col in model_data.columns if col not in ['mh_disorder_current']]\n",
        "X = model_data[cols]\n",
        "\n",
        "# Data Validation\n",
        "X_train, X_test, y_train, y_test = train_test_split(X, y, test_size=0.3, random_state=42)"
      ],
      "execution_count": 67,
      "outputs": []
    },
    {
      "cell_type": "code",
      "metadata": {
        "id": "x_cC59Dn9HFA"
      },
      "source": [
        "# Predefined function\n",
        "def model_assess(model, name='Default'):\n",
        "    model.fit(X_train, y_train)\n",
        "    preds = model.predict(X_test)\n",
        "    print('---', name, '---', '\\n',\n",
        "          confusion_matrix(y_test, preds), '\\n',\n",
        "          'Accuracy:', round(accuracy_score(y_test, preds), 5), '\\n')"
      ],
      "execution_count": 68,
      "outputs": []
    },
    {
      "cell_type": "code",
      "metadata": {
        "colab": {
          "base_uri": "https://localhost:8080/"
        },
        "id": "pV8hCm2BCf85",
        "outputId": "49b10fc6-b093-47cb-a9dc-9401118349d3"
      },
      "source": [
        "# Naive Bayes\n",
        "nb = GaussianNB()\n",
        "model_assess(nb, name='Naive Bayes')\n",
        "\n",
        "# Stochastic Gradient Descent\n",
        "sgd = SGDClassifier(max_iter=10000, random_state=0)\n",
        "model_assess(sgd, name='SGD')\n",
        "\n",
        "# KNN\n",
        "knn = KNeighborsClassifier(n_neighbors=19)\n",
        "model_assess(knn, name='KNN')\n",
        "\n",
        "# Decission trees\n",
        "tree = DecisionTreeClassifier()\n",
        "model_assess(tree, 'Decission Trees')\n",
        "\n",
        "# Random Forest\n",
        "rforest = RandomForestClassifier(n_estimators=1000, max_depth=10, random_state=0)\n",
        "model_assess(rforest, 'Random Forest')\n",
        "\n",
        "# Support Vector Machine\n",
        "svm = SVC(decision_function_shape=\"ovo\")\n",
        "model_assess(svm, 'SVM')\n",
        "\n",
        "# Logistic Regression\n",
        "lg = LogisticRegression(random_state=0, solver='lbfgs', multi_class='multinomial')\n",
        "model_assess(lg, 'Logistic Regression')\n",
        "\n",
        "# Neural Nets\n",
        "nn = MLPClassifier(solver='lbfgs', alpha=1e-5, hidden_layer_sizes=(150, 10), random_state=1)\n",
        "model_assess(nn, 'Neural Nets')\n",
        "\n",
        "# Cross Gradient Booster\n",
        "xgb = XGBClassifier(n_estimators=1000, learning_rate=0.05)\n",
        "model_assess(xgb, 'XGBoost')\n",
        "\n",
        "# Cross Gradient Booster (Random Forest) <=================== BEST\n",
        "xgbrf = XGBRFClassifier(objective= 'multi:softmax')\n",
        "model_assess(xgbrf, 'XGBoost RF')"
      ],
      "execution_count": 69,
      "outputs": [
        {
          "output_type": "stream",
          "text": [
            "--- Naive Bayes --- \n",
            " [[  6   0   0   8   0]\n",
            " [  0  31  22   0  12]\n",
            " [ 17  15 105  36  18]\n",
            " [  7   0   0  35   0]\n",
            " [  2  26   4  88 130]] \n",
            " Accuracy: 0.54626 \n",
            "\n",
            "--- SGD --- \n",
            " [[  3   1   7   2   1]\n",
            " [  0  31  24   0  10]\n",
            " [  2  18 150   5  16]\n",
            " [  2   3  14  13  10]\n",
            " [  0  30  47  16 157]] \n",
            " Accuracy: 0.62989 \n",
            "\n",
            "--- KNN --- \n",
            " [[  0   0  10   1   3]\n",
            " [  0  10  29   1  25]\n",
            " [  0   7 145   0  39]\n",
            " [  0   0  17   1  24]\n",
            " [  0   2  11   2 235]] \n",
            " Accuracy: 0.69573 \n",
            "\n",
            "--- Decission Trees --- \n",
            " [[  4   0   6   3   1]\n",
            " [  0  30  21   0  14]\n",
            " [  3  20 138   7  23]\n",
            " [  4   0  10  16  12]\n",
            " [  0  31  27  10 182]] \n",
            " Accuracy: 0.65836 \n",
            "\n",
            "--- Random Forest --- \n",
            " [[  2   0   8   3   1]\n",
            " [  0  26  19   0  20]\n",
            " [  0  13 147   3  28]\n",
            " [  1   0  11  13  17]\n",
            " [  0   5   1   1 243]] \n",
            " Accuracy: 0.7669 \n",
            "\n",
            "--- SVM --- \n",
            " [[  1   0   9   2   2]\n",
            " [  0  27  16   0  22]\n",
            " [  0  11 145   3  32]\n",
            " [  0   0  13   6  23]\n",
            " [  0   7   4   3 236]] \n",
            " Accuracy: 0.73843 \n",
            "\n",
            "--- Logistic Regression --- \n",
            " [[  5   1   5   2   1]\n",
            " [  0  30  20   0  15]\n",
            " [  1  12 150   3  25]\n",
            " [  3   0  11  12  16]\n",
            " [  0  20  11   8 211]] \n",
            " Accuracy: 0.72598 \n",
            "\n",
            "--- Neural Nets --- \n",
            " [[  2   0   7   3   2]\n",
            " [  0  33  17   0  15]\n",
            " [  1  21 138   5  26]\n",
            " [  2   1  14  11  14]\n",
            " [  0  36  28  14 172]] \n",
            " Accuracy: 0.63345 \n",
            "\n",
            "--- XGBoost --- \n",
            " [[  5   0   4   4   1]\n",
            " [  0  36  16   0  13]\n",
            " [  0  16 152   2  21]\n",
            " [  1   1  10  17  13]\n",
            " [  0  22   6   8 214]] \n",
            " Accuracy: 0.75445 \n",
            "\n",
            "--- XGBoost RF --- \n",
            " [[  6   0   4   3   1]\n",
            " [  0  26  19   0  20]\n",
            " [  0   9 151   2  29]\n",
            " [  3   0   9  10  20]\n",
            " [  0   3   4   2 241]] \n",
            " Accuracy: 0.77224 \n",
            "\n"
          ],
          "name": "stdout"
        }
      ]
    },
    {
      "cell_type": "code",
      "metadata": {
        "id": "TdkMlwP5CkFr"
      },
      "source": [
        "from sklearn.model_selection import GridSearchCV\n",
        "\n",
        "# Grid Search Function\n",
        "def gridSearch(parameters):\n",
        "    gsearch = GridSearchCV(estimator = XGBRFClassifier(learning_rate =0.00001,n_estimators=1000,max_depth=1,min_child_weight=4,\n",
        "                                                    gamma=0.3,subsample=0.8,colsample_bytree=0.8,objective= 'multi:softmax',\n",
        "                                                    nthread=5,scale_pos_weight=1), \n",
        "                        param_grid = parameters, cv=5)\n",
        "    gsearch.fit(X_train,y_train)\n",
        "    print('best params:', gsearch.best_params_)\n",
        "    predictions = gsearch.predict(X_test)\n",
        "    print('Accuracy:', round(accuracy_score(y_test, predictions), 5))"
      ],
      "execution_count": null,
      "outputs": []
    },
    {
      "cell_type": "code",
      "metadata": {
        "id": "ijALOmZ6lWHa"
      },
      "source": [
        "#print(y_test)"
      ],
      "execution_count": 71,
      "outputs": []
    },
    {
      "cell_type": "code",
      "metadata": {
        "colab": {
          "base_uri": "https://localhost:8080/"
        },
        "id": "NiBT7dlhCp_a",
        "outputId": "ebf1c91b-3994-4049-c182-c8203f26ee60"
      },
      "source": [
        "param_test1 = {\n",
        " 'min_child_weight':[1, 2, 3, 4]\n",
        "}\n",
        "\n",
        "gridSearch(param_test1)"
      ],
      "execution_count": 72,
      "outputs": [
        {
          "output_type": "stream",
          "text": [
            "best params: {'min_child_weight': 1}\n",
            "Accuracy: 0.74555\n"
          ],
          "name": "stdout"
        }
      ]
    },
    {
      "cell_type": "code",
      "metadata": {
        "id": "nBAzT38cCs6F",
        "colab": {
          "base_uri": "https://localhost:8080/"
        },
        "outputId": "e1d5ea86-e0a4-4baa-ecc2-1a1aea77e60b"
      },
      "source": [
        "param_test2 = {\n",
        " 'gamma':[i/10.0 for i in range(0,5)]\n",
        "}\n",
        "\n",
        "gridSearch(param_test2)"
      ],
      "execution_count": 73,
      "outputs": [
        {
          "output_type": "stream",
          "text": [
            "best params: {'gamma': 0.0}\n",
            "Accuracy: 0.74555\n"
          ],
          "name": "stdout"
        }
      ]
    },
    {
      "cell_type": "code",
      "metadata": {
        "colab": {
          "base_uri": "https://localhost:8080/"
        },
        "id": "yoni4EmxCySC",
        "outputId": "3eb169af-bbe8-423d-abf4-c23d64fafe6f"
      },
      "source": [
        "xgbrf_tuned = XGBRFClassifier(objective= 'multi:softmax', learning_rate =0.000001, n_estimators=1000, max_depth=1, \n",
        "                              min_child_weight=5,gamma = 0.3, subsample=0.8, colsample_bytree=0.9, \n",
        "                              nthread=4, scale_pos_weight=1)\n",
        "model_assess(xgbrf_tuned)"
      ],
      "execution_count": 74,
      "outputs": [
        {
          "output_type": "stream",
          "text": [
            "--- Default --- \n",
            " [[  0   0  12   0   2]\n",
            " [  0  25  20   0  20]\n",
            " [  0   9 154   0  28]\n",
            " [  0   3  18   0  21]\n",
            " [  0   4   4   0 242]] \n",
            " Accuracy: 0.74911 \n",
            "\n"
          ],
          "name": "stdout"
        }
      ]
    },
    {
      "cell_type": "code",
      "metadata": {
        "id": "qMSIy6JtCysM",
        "colab": {
          "base_uri": "https://localhost:8080/"
        },
        "outputId": "37c7d960-4e6a-4932-8e34-8c5e240b9032"
      },
      "source": [
        "# Creating new train datasets only with features that have an importance bigger than 0.004\n",
        "X_train_new = X_train[['mh_disorder_past', 'mh_not_eff_treat_impact_on_work', 'mh_diagnos_proffesional', \n",
        "                       'mh_eff_treat_impact_on_work']]\n",
        "X_test_new = X_test[['mh_disorder_past', 'mh_not_eff_treat_impact_on_work', 'mh_diagnos_proffesional', \n",
        "                       'mh_eff_treat_impact_on_work']]\n",
        "\n",
        "# Fitting the model to the new train datasets to see if we get a better accuracy\n",
        "xgbrf_perm_imp = XGBRFClassifier(objective= 'multi:softmax', learning_rate =0.00001, n_estimators=1000, max_depth=1, \n",
        "                              min_child_weight=5,gamma = 0.3, subsample=0.8, colsample_bytree=0.9, \n",
        "                              nthread=4, scale_pos_weight=1)\n",
        "xgbrf_perm_imp.fit(X_train_new, y_train)\n",
        "predictions = xgbrf_perm_imp.predict(X_test_new)\n",
        "print(confusion_matrix(y_test, predictions))\n",
        "print('Accuracy:', accuracy_score(y_test, predictions))"
      ],
      "execution_count": 75,
      "outputs": [
        {
          "output_type": "stream",
          "text": [
            "[[  0   0  11   0   3]\n",
            " [  0  23  20   0  22]\n",
            " [  0   4 150   0  37]\n",
            " [  0   2  16   0  24]\n",
            " [  0   0   3   0 247]]\n",
            "Accuracy: 0.7473309608540926\n"
          ],
          "name": "stdout"
        }
      ]
    }
  ]
}