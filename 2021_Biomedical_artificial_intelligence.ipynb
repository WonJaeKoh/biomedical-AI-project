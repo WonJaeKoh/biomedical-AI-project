{
  "nbformat": 4,
  "nbformat_minor": 0,
  "metadata": {
    "colab": {
      "name": "2021_Biomedical_artificial_intelligence.ipynb",
      "provenance": [],
      "collapsed_sections": []
    },
    "kernelspec": {
      "name": "python3",
      "display_name": "Python 3"
    },
    "language_info": {
      "name": "python"
    },
    "accelerator": "GPU"
  },
  "cells": [
    {
      "cell_type": "code",
      "metadata": {
        "colab": {
          "base_uri": "https://localhost:8080/",
          "height": 35
        },
        "id": "HHnXZlQs56kB",
        "outputId": "74549e72-ea98-4d51-ce0a-64aac9215df1"
      },
      "source": [
        "pwd"
      ],
      "execution_count": 1,
      "outputs": [
        {
          "output_type": "execute_result",
          "data": {
            "application/vnd.google.colaboratory.intrinsic+json": {
              "type": "string"
            },
            "text/plain": [
              "'/content'"
            ]
          },
          "metadata": {
            "tags": []
          },
          "execution_count": 1
        }
      ]
    },
    {
      "cell_type": "code",
      "metadata": {
        "colab": {
          "base_uri": "https://localhost:8080/"
        },
        "id": "DpsSs5-Toiqn",
        "outputId": "a1338c29-6ca8-4946-b194-347f3e4285a0"
      },
      "source": [
        "from google.colab import drive\n",
        "drive.mount('/content/drive')"
      ],
      "execution_count": 2,
      "outputs": [
        {
          "output_type": "stream",
          "text": [
            "Mounted at /content/drive\n"
          ],
          "name": "stdout"
        }
      ]
    },
    {
      "cell_type": "code",
      "metadata": {
        "colab": {
          "base_uri": "https://localhost:8080/"
        },
        "id": "uWIsfTPIAI8v",
        "outputId": "af4873fa-e2b3-4f3f-b382-b10c91327e35"
      },
      "source": [
        "pip list | grep scikit-learn"
      ],
      "execution_count": 3,
      "outputs": [
        {
          "output_type": "stream",
          "text": [
            "scikit-learn                  0.22.2.post1       \n"
          ],
          "name": "stdout"
        }
      ]
    },
    {
      "cell_type": "code",
      "metadata": {
        "colab": {
          "base_uri": "https://localhost:8080/"
        },
        "id": "A1L6B3KwA7rJ",
        "outputId": "deb9cb35-7998-483b-8040-a8686c47f980"
      },
      "source": [
        "pip uninstall scikit-learn"
      ],
      "execution_count": 4,
      "outputs": [
        {
          "output_type": "stream",
          "text": [
            "Uninstalling scikit-learn-0.22.2.post1:\n",
            "  Would remove:\n",
            "    /usr/local/lib/python3.7/dist-packages/scikit_learn-0.22.2.post1.dist-info/*\n",
            "    /usr/local/lib/python3.7/dist-packages/sklearn/*\n",
            "Proceed (y/n)? ㅛ\n",
            "Your response ('ㅛ') was not one of the expected responses: y, n\n",
            "Proceed (y/n)? ㅛ\n",
            "Your response ('ㅛ') was not one of the expected responses: y, n\n",
            "Proceed (y/n)? y\n",
            "  Successfully uninstalled scikit-learn-0.22.2.post1\n"
          ],
          "name": "stdout"
        }
      ]
    },
    {
      "cell_type": "code",
      "metadata": {
        "colab": {
          "base_uri": "https://localhost:8080/"
        },
        "id": "MX4s1UW1AiXw",
        "outputId": "a643d6da-d45b-4297-839a-52bef9a8ca0c"
      },
      "source": [
        "pip install --upgrade scikit-learn==0.21.3\n"
      ],
      "execution_count": 5,
      "outputs": [
        {
          "output_type": "stream",
          "text": [
            "Collecting scikit-learn==0.21.3\n",
            "\u001b[?25l  Downloading https://files.pythonhosted.org/packages/9f/c5/e5267eb84994e9a92a2c6a6ee768514f255d036f3c8378acfa694e9f2c99/scikit_learn-0.21.3-cp37-cp37m-manylinux1_x86_64.whl (6.7MB)\n",
            "\u001b[K     |████████████████████████████████| 6.7MB 2.1MB/s \n",
            "\u001b[?25hRequirement already satisfied, skipping upgrade: scipy>=0.17.0 in /usr/local/lib/python3.7/dist-packages (from scikit-learn==0.21.3) (1.4.1)\n",
            "Requirement already satisfied, skipping upgrade: numpy>=1.11.0 in /usr/local/lib/python3.7/dist-packages (from scikit-learn==0.21.3) (1.19.5)\n",
            "Requirement already satisfied, skipping upgrade: joblib>=0.11 in /usr/local/lib/python3.7/dist-packages (from scikit-learn==0.21.3) (1.0.1)\n",
            "Installing collected packages: scikit-learn\n",
            "Successfully installed scikit-learn-0.21.3\n"
          ],
          "name": "stdout"
        }
      ]
    },
    {
      "cell_type": "code",
      "metadata": {
        "id": "IGI2ZVEJBP9A",
        "colab": {
          "base_uri": "https://localhost:8080/"
        },
        "outputId": "cbef6181-4cd9-400e-8a4b-689603f9a3dc"
      },
      "source": [
        "import pandas as pd\n",
        "print(\"pandas version: \", pd.__version__)\n",
        "\n",
        "pd.set_option('display.max_columns', None)\n"
      ],
      "execution_count": 6,
      "outputs": [
        {
          "output_type": "stream",
          "text": [
            "pandas version:  1.1.5\n"
          ],
          "name": "stdout"
        }
      ]
    },
    {
      "cell_type": "code",
      "metadata": {
        "id": "lOcJwQ7a9uPU"
      },
      "source": [
        "# import numpy as np\n",
        "# import seaborn as sns\n",
        "# import matplotlib.pyplot as plt\n",
        "# %matplotlib inline\n",
        "# from sklearn.model_selection import train_test_split\n",
        "# import warnings\n",
        "# warnings.filterwarnings('ignore')\n",
        "\n",
        "# # Data import\n",
        "# survey_2017 = pd.read_csv(\"/content/drive/MyDrive/final3.csv\")\n",
        "# print(survey_2017.shape)\n",
        "# #print(survey_2017.columns)\n",
        "# survey_2016 = pd.read_csv(\"/content/drive/MyDrive/mental-heath-in-tech-2016_20161114.csv\")\n",
        "# print(survey_2016.shape)\n",
        "# #print(survey_2016.columns)\n",
        "\n",
        "# # 2017 -> 2016 프리프로세싱 2100명 1433 -> 79~~~> 시작을할껀데 이게 어떠냐 올릴 더좋은 방법있는가? \n",
        "\n",
        "# List = []\n",
        "# List2 = []\n",
        "# for temp in survey_2017.columns[:]:\n",
        "#     #print(temp)\n",
        "#     List.append(temp)\n",
        "# print(List)\n",
        "# print('!!!!!!!!!!!!!!!!!!!!!!!!!!!!')\n",
        "\n",
        "# for temp2 in survey_2016.columns[:]:\n",
        "#     List2.append(temp2)\n",
        "\n",
        "# print(List2)\n",
        "\n",
        "# for i in range (0,63):\n",
        "#     if List[i] == List2[i]:\n",
        "#         continue\n",
        "#     else:\n",
        "#         print(i+1)\n",
        "#         print('NO');\n",
        "#         print('2017:'+ List[i])\n",
        "#         print('2016:' + List2[i])\n",
        "\n",
        "#for()\n",
        "\n",
        "\n",
        "#질문에 대해서 긴단어들 정리 \n",
        "#성별에 관해서 정수값으로 바꾸고 \n",
        "#나이에대해서 평균으로 preprocessing\n",
        "#10번까지 했음 \n",
        "\n",
        "#2017 11 -> x\n",
        "#2017 12 -> x\n",
        "#13번 2016질문은 2017 15문항에 있다. 2017 O -> M (O)\n",
        "#14번 다른질문 2016 14질문은 2017 12문항에 있다. 2017 L -> N (O) \n",
        "# 25 번 2016번 질문은 2017 30문항에 있다. (O)\n",
        "# 24 번 2016번 질문은 2017 29문항에 있다. (O)\n",
        "# 23 번 2016번 질문은 2017 28문항에 있다. (O)\n",
        "#2017 27 -> x\n",
        "#2017 26 -> x\n",
        "#2017 25 -> x\n",
        "#2017 24 -> x\n",
        "#2017 23 -> x\n",
        "#2017 22 -> x\n",
        "#2017 21 -> x\n",
        "#2017 20 -> x\n",
        "#2017 19 -> x\n",
        "#2017 18 -> x\n",
        "#2017 17 -> x\n",
        "#2017 16 -> x\n",
        "\n",
        "\n",
        "# 11 - 유사한 질문이나 \n",
        "# 16 -> pass\n",
        "# 20 -> 답이 다르다\n",
        "# 22 -> 답이 다르다.\n",
        "# 30 -> 없다.\n",
        "# 31,32,41,48,49,50,52,53,62,63 -> 이제 2016년도있는데 2017년도에 없어서 평균을 내서 2017년도에 넣어야한다. 2016년도께 들어가 있다. (해결 min) \n",
        "\n",
        "#42 -> 다시봐야한다.\n",
        "#55 -> 다시봐야한다.\n",
        "\n",
        "#5//25일 \n",
        "\n",
        "#내일 진행관련 1.질문 같게 정리 2.2016년도 에 있는데 2017년도에 없는 질문은 평균을내서 2017년 같은열에 넣어야한다.  95% \n",
        "#비슷질문인데 답이 다른것에대해 정리하기 5% 3일차 \n",
        "#위 모든걸 원재랑 상의 해야한다. \n",
        "\n",
        "#5/25 \n",
        "#데이터를 찍어네는데는 성공했지만  int형과 str사이 간극이 벌어진거 같음\n",
        "\n"
      ],
      "execution_count": 8,
      "outputs": []
    },
    {
      "cell_type": "code",
      "metadata": {
        "id": "VQ8GmW10BqYx",
        "colab": {
          "base_uri": "https://localhost:8080/"
        },
        "outputId": "e2995d03-1702-4073-8478-33bbcf3070eb"
      },
      "source": [
        "import numpy as np\n",
        "import seaborn as sns\n",
        "import matplotlib.pyplot as plt\n",
        "%matplotlib inline\n",
        "from sklearn.model_selection import train_test_split\n",
        "import warnings\n",
        "warnings.filterwarnings('ignore')\n",
        "\n",
        "# Data import\n",
        "#survey_2015 = pd.read_csv(\"../content/drive/MyDrive/mental-heath-in-tech-2016_20161114.csv\")\n",
        "survey_2016 = pd.read_csv(\"/content/drive/MyDrive/final_test1.csv\")\n",
        "#print(survey_2016.columns)\n",
        "#print(survey_2016.shape)\n",
        "#print(survey_2015.shape)\n",
        "#print(survey_2016.iloc[1320:1425])\n",
        "\n",
        "# ----------- CLEANING THE DATA -----------\n",
        "# Column rename\n",
        "renamed_columns = ['self_empl_flag', 'comp_no_empl', 'tech_comp_flag', 'tech_role_flag', 'mh_coverage_flag',\n",
        "                  'mh_coverage_awareness_flag', 'mh_employer_discussion', 'mh_resources_provided', 'mh_anonimity_flag',\n",
        "                  'mh_medical_leave', 'mh_discussion_neg_impact', 'ph_discussion_neg_impact', 'mh_discussion_cowork',\n",
        "                  'mh_discussion_supervis', 'mh_eq_ph_employer', 'mh_conseq_coworkers', 'mh_coverage_flag2', 'mh_online_res_flag',\n",
        "                  'mh_diagnosed&reveal_clients_flag', 'mh_diagnosed&reveal_clients_impact', 'mh_diagnosed&reveal_cowork_flag', 'mh_cowork_reveal_neg_impact',\n",
        "                  'mh_prod_impact', 'mh_prod_impact_perc', 'prev_employers_flag', 'prev_mh_benefits', 'prev_mh_benefits_awareness',\n",
        "                  'prev_mh_discussion', 'prev_mh_resources', 'prev_mh_anonimity', 'prev_mh_discuss_neg_conseq', 'prev_ph_discuss_neg_conseq',\n",
        "                  'prev_mh_discussion_cowork', 'prev_mh_discussion_supervisor', 'prev_mh_importance_employer', 'prev_mh_conseq_coworkers',\n",
        "                  'future_ph_specification', 'why/why_not', 'future_mh_specification', 'why/why_not2', 'mh_hurt_on_career', 'mh_neg_view_cowork',\n",
        "                  'mh_sharing_friends/fam_flag', 'mh_bad_response_workplace', 'mh_for_others_bad_response_workplace', 'mh_family_hist',\n",
        "                  'mh_disorder_past', 'mh_disorder_current',  'mh_diagnos_proffesional',\n",
        "                   'mh_sought_proffes_treatm', 'mh_eff_treat_impact_on_work', 'mh_not_eff_treat_impact_on_work',\n",
        "                  'age', 'sex', 'country_live', 'live_us_teritory', 'country_work', 'work_us_teritory']\n",
        "survey_2016.columns = renamed_columns\n",
        "print(survey_2016.shape)\n",
        "#survey_2015.columns = renamed_columns\n",
        "#print('질문 정리가 이렇게 바뀌었다')\n",
        "#print(survey_2016.columns)\n",
        "#print('!!!!!!!!!!')\n",
        "#print(survey_2016['sex'])\n",
        "# Sex column needs to be recoded (number of unique values = 70)\n",
        "survey_2016['sex'].replace(to_replace = ['Male', 'male', 'Male ', 'M', 'm',\n",
        "       'man', 'Cis male', 'Male.', 'male 9:1 female, roughly', 'Male (cis)', 'Man', 'Sex is male',\n",
        "       'cis male', 'Malr', 'Dude', \"I'm a man why didn't you make this a drop down question. You should of asked sex? And I would of answered yes please. Seriously how much text can this take? \",\n",
        "       'mail', 'M|', 'Male/genderqueer', 'male ',\n",
        "       'Cis Male', 'Male (trans, FtM)',\n",
        "       'cisdude', 'cis man', 'MALE'], value = 1, inplace = True)\n",
        "\n",
        "survey_2016['sex'].replace(to_replace = ['Female', 'female', 'I identify as female.', 'female ',\n",
        "       'Female assigned at birth ', 'F', 'Woman', 'fm', 'f', 'Cis female ', 'Transitioned, M2F',\n",
        "       'Genderfluid (born female)', 'Female or Multi-Gender Femme', 'Female ', 'woman', 'female/woman',\n",
        "       'Cisgender Female', 'fem', 'Female (props for making this a freeform field, though)',\n",
        "       ' Female', 'Cis-woman', 'female-bodied; no feelings about gender',\n",
        "       'AFAB'], value = 2, inplace = True)\n",
        "\n",
        "survey_2016['sex'].replace(to_replace = ['Bigender', 'non-binary', 'Other/Transfeminine',\n",
        "       'Androgynous', 'Other', 'nb masculine',\n",
        "       'none of your business', 'genderqueer', 'Human', 'Genderfluid',\n",
        "       'Enby', 'genderqueer woman', 'mtf', 'Queer', 'Agender', 'Fluid',\n",
        "       'Nonbinary', 'human', 'Unicorn', 'Genderqueer',\n",
        "       'Genderflux demi-girl', 'Transgender woman'], value = 3, inplace = True)\n",
        "#print('성별 정리가 이렇게 바뀌었다.')\n",
        "#print(survey_2016['sex'])\n",
        "# Recode Comp size & country columns (for ease when doing plots)\n",
        "survey_2016['comp_no_empl'].replace(to_replace = ['More than 1000'], value = '>1000', inplace = True)\n",
        "survey_2016['country_live'].replace(to_replace = ['United States of America'], value = 'USA', inplace = True)\n",
        "survey_2016['country_live'].replace(to_replace = ['United Kingdom'], value = 'UK', inplace = True)\n",
        "survey_2016['country_work'].replace(to_replace = ['United States of America'], value = 'USA', inplace = True)\n",
        "survey_2016['country_work'].replace(to_replace = ['United Kingdom'], value = 'UK', inplace = True)\n",
        "\n",
        "# Max age is 323, min age is 3.\n",
        "# There are only 5 people that have weird ages (3yo, 15yo, or 99yo or 323 yo.) \n",
        "# These people will take the average age of the dataset (the correct calculated one, w/out outliers)\n",
        "mean_age = survey_2016[(survey_2016['age'] >= 18) | (survey_2016['age'] <= 75)]['age'].mean()\n",
        "survey_2016['age'].replace(to_replace = survey_2016[(survey_2016['age'] < 18) | (survey_2016['age'] > 75)]['age'].tolist(),\n",
        "                          value = mean_age, inplace = True)\n",
        "print('바뀐후')\n",
        "print(survey_2016)\n",
        "#print(survey_2016.iloc[1320:1425])\n",
        "\n",
        "#질문에 대해서 긴단어들 정리 \n",
        "#성별에 관해서 정수값으로 바꾸고 \n",
        "#나이에대해서 평균으로 preprocessing\n"
      ],
      "execution_count": 9,
      "outputs": [
        {
          "output_type": "stream",
          "text": [
            "(2189, 58)\n",
            "바뀐후\n",
            "      self_empl_flag comp_no_empl  tech_comp_flag  tech_role_flag  \\\n",
            "0                  0       26-100             1.0             NaN   \n",
            "1                  0      06월 25일             1.0             NaN   \n",
            "2                  0      06월 25일             1.0             NaN   \n",
            "3                  1          NaN             NaN             NaN   \n",
            "4                  0      06월 25일             0.0             1.0   \n",
            "...              ...          ...             ...             ...   \n",
            "2184               0       26-100             1.0             1.0   \n",
            "2185               0          NaN             1.0             1.0   \n",
            "2186               1          NaN             NaN             NaN   \n",
            "2187               0       26-100             1.0             1.0   \n",
            "2188               1          NaN             NaN             NaN   \n",
            "\n",
            "                     mh_coverage_flag mh_coverage_awareness_flag  \\\n",
            "0     Not eligible for coverage / N/A                        NaN   \n",
            "1                                  No                        Yes   \n",
            "2                                  No                        NaN   \n",
            "3                                 NaN                        NaN   \n",
            "4                                 Yes                        Yes   \n",
            "...                               ...                        ...   \n",
            "2184                     I don't know                         No   \n",
            "2185                              Yes                         No   \n",
            "2186                              NaN                        NaN   \n",
            "2187                              Yes                        Yes   \n",
            "2188                              NaN                        NaN   \n",
            "\n",
            "     mh_employer_discussion mh_resources_provided mh_anonimity_flag  \\\n",
            "0                        No                    No      I don't know   \n",
            "1                       Yes                   Yes               Yes   \n",
            "2                        No                    No      I don't know   \n",
            "3                       NaN                   NaN               NaN   \n",
            "4                        No                    No                No   \n",
            "...                     ...                   ...               ...   \n",
            "2184                     No          I don't know               Yes   \n",
            "2185           I don't know                    No               Yes   \n",
            "2186                    NaN                   NaN               NaN   \n",
            "2187                     No                    No                No   \n",
            "2188                    NaN                   NaN               NaN   \n",
            "\n",
            "                mh_medical_leave mh_discussion_neg_impact  \\\n",
            "0                      Very easy                       No   \n",
            "1                  Somewhat easy                       No   \n",
            "2     Neither easy nor difficult                    Maybe   \n",
            "3                            NaN                      NaN   \n",
            "4     Neither easy nor difficult                      Yes   \n",
            "...                          ...                      ...   \n",
            "2184                I don't know                    Maybe   \n",
            "2185                I don't know                    Maybe   \n",
            "2186                I don't know                    Maybe   \n",
            "2187                I don't know                    Maybe   \n",
            "2188                I don't know                    Maybe   \n",
            "\n",
            "     ph_discussion_neg_impact mh_discussion_cowork mh_discussion_supervis  \\\n",
            "0                          No                Maybe                    Yes   \n",
            "1                          No                Maybe                    Yes   \n",
            "2                          No                Maybe                  Maybe   \n",
            "3                         NaN                  NaN                    NaN   \n",
            "4                       Maybe                Maybe                     No   \n",
            "...                       ...                  ...                    ...   \n",
            "2184                    Maybe                  Yes                    Yes   \n",
            "2185                    Maybe                  Yes                    Yes   \n",
            "2186                    Maybe                  NaN                    NaN   \n",
            "2187                    Maybe                   No                    Yes   \n",
            "2188                    Maybe                  NaN                    NaN   \n",
            "\n",
            "     mh_eq_ph_employer mh_conseq_coworkers  mh_coverage_flag2  \\\n",
            "0         I don't know                  No                NaN   \n",
            "1                  Yes                  No                NaN   \n",
            "2         I don't know                  No                NaN   \n",
            "3                  NaN                 NaN                1.0   \n",
            "4                   No                  No                NaN   \n",
            "...                ...                 ...                ...   \n",
            "2184      I don't know                 NaN                NaN   \n",
            "2185      I don't know                 NaN                NaN   \n",
            "2186      I don't know                 NaN                1.0   \n",
            "2187      I don't know                  No                NaN   \n",
            "2188      I don't know                 Yes                1.0   \n",
            "\n",
            "       mh_online_res_flag mh_diagnosed&reveal_clients_flag  \\\n",
            "0                     NaN                              NaN   \n",
            "1                     NaN                              NaN   \n",
            "2                     NaN                              NaN   \n",
            "3     Yes, I know several        Sometimes, if it comes up   \n",
            "4                     NaN                              NaN   \n",
            "...                   ...                              ...   \n",
            "2184                  NaN                              NaN   \n",
            "2185                  NaN                              NaN   \n",
            "2186          I know some    No, because it doesn't matter   \n",
            "2187                  NaN                              NaN   \n",
            "2188          I know some        Sometimes, if it comes up   \n",
            "\n",
            "     mh_diagnosed&reveal_clients_impact mh_diagnosed&reveal_cowork_flag  \\\n",
            "0                                   NaN                             NaN   \n",
            "1                                   NaN                             NaN   \n",
            "2                                   NaN                             NaN   \n",
            "3                          I'm not sure       Sometimes, if it comes up   \n",
            "4                                   NaN                             NaN   \n",
            "...                                 ...                             ...   \n",
            "2184                                NaN                             NaN   \n",
            "2185                                NaN                             NaN   \n",
            "2186                         Negatively   No, because it doesn't matter   \n",
            "2187                                NaN                             NaN   \n",
            "2188                       I'm not sure       Sometimes, if it comes up   \n",
            "\n",
            "     mh_cowork_reveal_neg_impact mh_prod_impact mh_prod_impact_perc  \\\n",
            "0                            NaN            NaN                 NaN   \n",
            "1                            NaN            NaN                 NaN   \n",
            "2                            NaN            NaN                 NaN   \n",
            "3                   I'm not sure            Yes               1-25%   \n",
            "4                            NaN            NaN                 NaN   \n",
            "...                          ...            ...                 ...   \n",
            "2184                         NaN            NaN                 NaN   \n",
            "2185                         NaN            NaN                 NaN   \n",
            "2186                  Negatively             No                 NaN   \n",
            "2187                         NaN            NaN                 NaN   \n",
            "2188                   No change            Yes              26-50%   \n",
            "\n",
            "      prev_employers_flag   prev_mh_benefits       prev_mh_benefits_awareness  \\\n",
            "0                       1       No, none did        N/A (not currently aware)   \n",
            "1                       1  Yes, they all did              I was aware of some   \n",
            "2                       1       No, none did        N/A (not currently aware)   \n",
            "3                       1           Some did        N/A (not currently aware)   \n",
            "4                       1       I don't know        N/A (not currently aware)   \n",
            "...                   ...                ...                              ...   \n",
            "2184                    1       I don't know              N/A (was not aware)   \n",
            "2185                    1  Yes, they all did  Yes, I was aware of all of them   \n",
            "2186                    1       I don't know              N/A (was not aware)   \n",
            "2187                    1       No, none did              N/A (was not aware)   \n",
            "2188                    1  Yes, they all did              I was aware of some   \n",
            "\n",
            "     prev_mh_discussion prev_mh_resources prev_mh_anonimity  \\\n",
            "0          I don't know          None did      I don't know   \n",
            "1              None did          Some did       Yes, always   \n",
            "2              None did          Some did      I don't know   \n",
            "3              None did          None did      I don't know   \n",
            "4              Some did          None did      I don't know   \n",
            "...                 ...               ...               ...   \n",
            "2184           Some did          None did       Yes, always   \n",
            "2185           Some did          Some did       Yes, always   \n",
            "2186           None did          None did                No   \n",
            "2187           None did          None did      I don't know   \n",
            "2188           Some did          None did       Yes, always   \n",
            "\n",
            "     prev_mh_discuss_neg_conseq prev_ph_discuss_neg_conseq  \\\n",
            "0                  Some of them               None of them   \n",
            "1                  None of them               None of them   \n",
            "2                  I don't know               Some of them   \n",
            "3                  Some of them               Some of them   \n",
            "4                  Some of them               Some of them   \n",
            "...                         ...                        ...   \n",
            "2184                      Maybe               None of them   \n",
            "2185                      Maybe               Some of them   \n",
            "2186                      Maybe               None of them   \n",
            "2187                      Maybe               Some of them   \n",
            "2188                      Maybe               Some of them   \n",
            "\n",
            "                 prev_mh_discussion_cowork  prev_mh_discussion_supervisor  \\\n",
            "0            Some of my previous employers  Some of my previous employers   \n",
            "1     No, at none of my previous employers  Some of my previous employers   \n",
            "2            Some of my previous employers                   I don't know   \n",
            "3            Some of my previous employers  Some of my previous employers   \n",
            "4     No, at none of my previous employers  Some of my previous employers   \n",
            "...                                    ...                            ...   \n",
            "2184         Some of my previous employers                   I don't know   \n",
            "2185         Some of my previous employers                   I don't know   \n",
            "2186  No, at none of my previous employers                   I don't know   \n",
            "2187  No, at none of my previous employers                   I don't know   \n",
            "2188         Some of my previous employers                   I don't know   \n",
            "\n",
            "     prev_mh_importance_employer prev_mh_conseq_coworkers  \\\n",
            "0                   I don't know             None of them   \n",
            "1                       Some did             None of them   \n",
            "2                   I don't know             Some of them   \n",
            "3                   I don't know             Some of them   \n",
            "4                       Some did             Some of them   \n",
            "...                          ...                      ...   \n",
            "2184                I don't know             Some of them   \n",
            "2185                I don't know             None of them   \n",
            "2186                I don't know             Some of them   \n",
            "2187                I don't know             None of them   \n",
            "2188                I don't know             None of them   \n",
            "\n",
            "     future_ph_specification  \\\n",
            "0                      Maybe   \n",
            "1                      Maybe   \n",
            "2                        Yes   \n",
            "3                        Yes   \n",
            "4                      Maybe   \n",
            "...                      ...   \n",
            "2184                   Maybe   \n",
            "2185                   Maybe   \n",
            "2186                   Maybe   \n",
            "2187                   Maybe   \n",
            "2188                   Maybe   \n",
            "\n",
            "                                            why/why_not  \\\n",
            "0                                                   NaN   \n",
            "1     It would depend on the health issue. If there ...   \n",
            "2     They would provable need to know, to Judge if ...   \n",
            "3     old back injury, doesn't cause me many issues ...   \n",
            "4     Depending on the interview stage and whether I...   \n",
            "...                                                 ...   \n",
            "2184                         Depends how relevant it is   \n",
            "2185              Full disclosure, work accommodations.   \n",
            "2186                                                 ww   \n",
            "2187  because none of the phyiscal things wrong with...   \n",
            "2188                                               Lala   \n",
            "\n",
            "     future_mh_specification  \\\n",
            "0                      Maybe   \n",
            "1                         No   \n",
            "2                        Yes   \n",
            "3                      Maybe   \n",
            "4                         No   \n",
            "...                      ...   \n",
            "2184                   Maybe   \n",
            "2185                   Maybe   \n",
            "2186                      No   \n",
            "2187                      No   \n",
            "2188                      No   \n",
            "\n",
            "                                           why/why_not2  \\\n",
            "0                                                   NaN   \n",
            "1     While mental health has become a more prominen...   \n",
            "2                                      Stigma, mainly.    \n",
            "3     would not if I was not 100% sure that the disc...   \n",
            "4                                          I don't know   \n",
            "...                                                 ...   \n",
            "2184                         Depends how relevant it is   \n",
            "2185  Full disclosure, work accommodations, but woul...   \n",
            "2186                                                 ww   \n",
            "2187                                  just not the time   \n",
            "2188                                              Off!    \n",
            "\n",
            "               mh_hurt_on_career            mh_neg_view_cowork  \\\n",
            "0                          Maybe  No, I don't think they would   \n",
            "1     No, I don't think it would  No, I don't think they would   \n",
            "2                          Maybe                         Maybe   \n",
            "3          Yes, I think it would                         Maybe   \n",
            "4          Yes, I think it would                         Maybe   \n",
            "...                          ...                           ...   \n",
            "2184                       Maybe       Yes, I think they would   \n",
            "2185                       Maybe       Yes, I think they would   \n",
            "2186                       Maybe       Yes, I think they would   \n",
            "2187                       Maybe  No, I don't think they would   \n",
            "2188                       Maybe       Yes, I think they would   \n",
            "\n",
            "     mh_sharing_friends/fam_flag mh_bad_response_workplace  \\\n",
            "0                  Somewhat open                        No   \n",
            "1                  Somewhat open                        No   \n",
            "2                  Somewhat open            Maybe/Not sure   \n",
            "3                        Neutral                        No   \n",
            "4                  Somewhat open        Yes, I experienced   \n",
            "...                          ...                       ...   \n",
            "2184               Somewhat open            Maybe/Not sure   \n",
            "2185                     Neutral            Maybe/Not sure   \n",
            "2186           Somewhat not open                       NaN   \n",
            "2187                     Neutral                        No   \n",
            "2188               Somewhat open                       NaN   \n",
            "\n",
            "     mh_for_others_bad_response_workplace mh_family_hist mh_disorder_past  \\\n",
            "0                                     NaN             No              Yes   \n",
            "1                                     NaN            Yes              Yes   \n",
            "2                                     Yes             No            Maybe   \n",
            "3                                     NaN             No              Yes   \n",
            "4                                     Yes            Yes              Yes   \n",
            "...                                   ...            ...              ...   \n",
            "2184                                Maybe             No              Yes   \n",
            "2185                                Maybe             No              Yes   \n",
            "2186                                  Yes            Yes              Yes   \n",
            "2187                                  NaN             No         Possibly   \n",
            "2188                                  Yes            Yes              Yes   \n",
            "\n",
            "     mh_disorder_current mh_diagnos_proffesional  mh_sought_proffes_treatm  \\\n",
            "0                     No                     Yes                         0   \n",
            "1                    Yes                     Yes                         1   \n",
            "2                     No                      No                         1   \n",
            "3                    Yes                     Yes                         1   \n",
            "4                    Yes                     Yes                         1   \n",
            "...                  ...                     ...                       ...   \n",
            "2184                  No                     Yes                         1   \n",
            "2185                 Yes                     Yes                         1   \n",
            "2186                 Yes                     Yes                         1   \n",
            "2187            Possibly                      No                         0   \n",
            "2188                 Yes                     Yes                         0   \n",
            "\n",
            "     mh_eff_treat_impact_on_work mh_not_eff_treat_impact_on_work   age  sex  \\\n",
            "0           Not applicable to me            Not applicable to me  39.0  1.0   \n",
            "1                         Rarely                       Sometimes  29.0  1.0   \n",
            "2           Not applicable to me            Not applicable to me  38.0  1.0   \n",
            "3                      Sometimes                       Sometimes  43.0  1.0   \n",
            "4                      Sometimes                       Sometimes  43.0  2.0   \n",
            "...                          ...                             ...   ...  ...   \n",
            "2184        Not applicable to me            Not applicable to me  41.0  1.0   \n",
            "2185                   Sometimes                           Often  40.0  1.0   \n",
            "2186                      Rarely                       Sometimes   NaN  NaN   \n",
            "2187        Not applicable to me            Not applicable to me  30.0  1.0   \n",
            "2188                   Sometimes                           Often   NaN  NaN   \n",
            "\n",
            "     country_live live_us_teritory country_work work_us_teritory  \n",
            "0              UK              NaN           UK              NaN  \n",
            "1             USA         Illinois          USA         Illinois  \n",
            "2              UK              NaN           UK              NaN  \n",
            "3              UK              NaN           UK              NaN  \n",
            "4             USA         Illinois          USA         Illinois  \n",
            "...           ...              ...          ...              ...  \n",
            "2184           UK              NaN           UK              NaN  \n",
            "2185          USA            Texas          USA            Texas  \n",
            "2186          NaN              NaN          NaN              NaN  \n",
            "2187          USA        Tennessee          USA        Tennessee  \n",
            "2188          NaN              NaN          NaN              NaN  \n",
            "\n",
            "[2189 rows x 58 columns]\n"
          ],
          "name": "stdout"
        }
      ]
    },
    {
      "cell_type": "code",
      "metadata": {
        "id": "c_DKxbxQ58Hb",
        "colab": {
          "base_uri": "https://localhost:8080/",
          "height": 478
        },
        "outputId": "dc1dcc09-b915-4ee9-b9f8-ce2d9c4e82b4"
      },
      "source": [
        " print(sns)\n",
        " plt.figure(figsize = (16,4))\n",
        " sns.heatmap(data = survey_2016.isna());\n",
        "#heatmap을 그려봄 으로써 어떤데이터있어 분포의 차이가 있는지 확인한 코드 "
      ],
      "execution_count": 10,
      "outputs": [
        {
          "output_type": "stream",
          "text": [
            "<module 'seaborn' from '/usr/local/lib/python3.7/dist-packages/seaborn/__init__.py'>\n"
          ],
          "name": "stdout"
        },
        {
          "output_type": "display_data",
          "data": {
            "image/png": "[encoded data removed]",
            "text/plain": [
              "<Figure size 1152x288 with 2 Axes>"
            ]
          },
          "metadata": {
            "tags": [],
            "needs_background": "light"
          }
        }
      ]
    },
    {
      "cell_type": "code",
      "metadata": {
        "colab": {
          "base_uri": "https://localhost:8080/"
        },
        "id": "kGfQmV3drNGX",
        "outputId": "c34127ec-febb-4658-e7b6-e592dd3459c0"
      },
      "source": [
        "# The survey has 1433 rows, so first we will drop all columns where more than half of the observations have missing values\n",
        "cols = (survey_2016.isna().sum() >= survey_2016.shape[0]/2).tolist()\n",
        "#print(cols)\n",
        "to_drop = survey_2016.columns[cols]\n",
        "survey_2016.drop(labels = to_drop, axis = 1, inplace = True)\n",
        "print(survey_2016)\n",
        "# Dealing with other missing values\n",
        "from sklearn.impute import SimpleImputer"
      ],
      "execution_count": 11,
      "outputs": [
        {
          "output_type": "stream",
          "text": [
            "      self_empl_flag comp_no_empl  tech_comp_flag  \\\n",
            "0                  0       26-100             1.0   \n",
            "1                  0      06월 25일             1.0   \n",
            "2                  0      06월 25일             1.0   \n",
            "3                  1          NaN             NaN   \n",
            "4                  0      06월 25일             0.0   \n",
            "...              ...          ...             ...   \n",
            "2184               0       26-100             1.0   \n",
            "2185               0          NaN             1.0   \n",
            "2186               1          NaN             NaN   \n",
            "2187               0       26-100             1.0   \n",
            "2188               1          NaN             NaN   \n",
            "\n",
            "                     mh_coverage_flag mh_coverage_awareness_flag  \\\n",
            "0     Not eligible for coverage / N/A                        NaN   \n",
            "1                                  No                        Yes   \n",
            "2                                  No                        NaN   \n",
            "3                                 NaN                        NaN   \n",
            "4                                 Yes                        Yes   \n",
            "...                               ...                        ...   \n",
            "2184                     I don't know                         No   \n",
            "2185                              Yes                         No   \n",
            "2186                              NaN                        NaN   \n",
            "2187                              Yes                        Yes   \n",
            "2188                              NaN                        NaN   \n",
            "\n",
            "     mh_employer_discussion mh_resources_provided mh_anonimity_flag  \\\n",
            "0                        No                    No      I don't know   \n",
            "1                       Yes                   Yes               Yes   \n",
            "2                        No                    No      I don't know   \n",
            "3                       NaN                   NaN               NaN   \n",
            "4                        No                    No                No   \n",
            "...                     ...                   ...               ...   \n",
            "2184                     No          I don't know               Yes   \n",
            "2185           I don't know                    No               Yes   \n",
            "2186                    NaN                   NaN               NaN   \n",
            "2187                     No                    No                No   \n",
            "2188                    NaN                   NaN               NaN   \n",
            "\n",
            "                mh_medical_leave mh_discussion_neg_impact  \\\n",
            "0                      Very easy                       No   \n",
            "1                  Somewhat easy                       No   \n",
            "2     Neither easy nor difficult                    Maybe   \n",
            "3                            NaN                      NaN   \n",
            "4     Neither easy nor difficult                      Yes   \n",
            "...                          ...                      ...   \n",
            "2184                I don't know                    Maybe   \n",
            "2185                I don't know                    Maybe   \n",
            "2186                I don't know                    Maybe   \n",
            "2187                I don't know                    Maybe   \n",
            "2188                I don't know                    Maybe   \n",
            "\n",
            "     ph_discussion_neg_impact mh_discussion_cowork mh_discussion_supervis  \\\n",
            "0                          No                Maybe                    Yes   \n",
            "1                          No                Maybe                    Yes   \n",
            "2                          No                Maybe                  Maybe   \n",
            "3                         NaN                  NaN                    NaN   \n",
            "4                       Maybe                Maybe                     No   \n",
            "...                       ...                  ...                    ...   \n",
            "2184                    Maybe                  Yes                    Yes   \n",
            "2185                    Maybe                  Yes                    Yes   \n",
            "2186                    Maybe                  NaN                    NaN   \n",
            "2187                    Maybe                   No                    Yes   \n",
            "2188                    Maybe                  NaN                    NaN   \n",
            "\n",
            "     mh_eq_ph_employer mh_conseq_coworkers  prev_employers_flag  \\\n",
            "0         I don't know                  No                    1   \n",
            "1                  Yes                  No                    1   \n",
            "2         I don't know                  No                    1   \n",
            "3                  NaN                 NaN                    1   \n",
            "4                   No                  No                    1   \n",
            "...                ...                 ...                  ...   \n",
            "2184      I don't know                 NaN                    1   \n",
            "2185      I don't know                 NaN                    1   \n",
            "2186      I don't know                 NaN                    1   \n",
            "2187      I don't know                  No                    1   \n",
            "2188      I don't know                 Yes                    1   \n",
            "\n",
            "       prev_mh_benefits       prev_mh_benefits_awareness prev_mh_discussion  \\\n",
            "0          No, none did        N/A (not currently aware)       I don't know   \n",
            "1     Yes, they all did              I was aware of some           None did   \n",
            "2          No, none did        N/A (not currently aware)           None did   \n",
            "3              Some did        N/A (not currently aware)           None did   \n",
            "4          I don't know        N/A (not currently aware)           Some did   \n",
            "...                 ...                              ...                ...   \n",
            "2184       I don't know              N/A (was not aware)           Some did   \n",
            "2185  Yes, they all did  Yes, I was aware of all of them           Some did   \n",
            "2186       I don't know              N/A (was not aware)           None did   \n",
            "2187       No, none did              N/A (was not aware)           None did   \n",
            "2188  Yes, they all did              I was aware of some           Some did   \n",
            "\n",
            "     prev_mh_resources prev_mh_anonimity prev_mh_discuss_neg_conseq  \\\n",
            "0             None did      I don't know               Some of them   \n",
            "1             Some did       Yes, always               None of them   \n",
            "2             Some did      I don't know               I don't know   \n",
            "3             None did      I don't know               Some of them   \n",
            "4             None did      I don't know               Some of them   \n",
            "...                ...               ...                        ...   \n",
            "2184          None did       Yes, always                      Maybe   \n",
            "2185          Some did       Yes, always                      Maybe   \n",
            "2186          None did                No                      Maybe   \n",
            "2187          None did      I don't know                      Maybe   \n",
            "2188          None did       Yes, always                      Maybe   \n",
            "\n",
            "     prev_ph_discuss_neg_conseq             prev_mh_discussion_cowork  \\\n",
            "0                  None of them         Some of my previous employers   \n",
            "1                  None of them  No, at none of my previous employers   \n",
            "2                  Some of them         Some of my previous employers   \n",
            "3                  Some of them         Some of my previous employers   \n",
            "4                  Some of them  No, at none of my previous employers   \n",
            "...                         ...                                   ...   \n",
            "2184               None of them         Some of my previous employers   \n",
            "2185               Some of them         Some of my previous employers   \n",
            "2186               None of them  No, at none of my previous employers   \n",
            "2187               Some of them  No, at none of my previous employers   \n",
            "2188               Some of them         Some of my previous employers   \n",
            "\n",
            "      prev_mh_discussion_supervisor prev_mh_importance_employer  \\\n",
            "0     Some of my previous employers                I don't know   \n",
            "1     Some of my previous employers                    Some did   \n",
            "2                      I don't know                I don't know   \n",
            "3     Some of my previous employers                I don't know   \n",
            "4     Some of my previous employers                    Some did   \n",
            "...                             ...                         ...   \n",
            "2184                   I don't know                I don't know   \n",
            "2185                   I don't know                I don't know   \n",
            "2186                   I don't know                I don't know   \n",
            "2187                   I don't know                I don't know   \n",
            "2188                   I don't know                I don't know   \n",
            "\n",
            "     prev_mh_conseq_coworkers future_ph_specification  \\\n",
            "0                None of them                   Maybe   \n",
            "1                None of them                   Maybe   \n",
            "2                Some of them                     Yes   \n",
            "3                Some of them                     Yes   \n",
            "4                Some of them                   Maybe   \n",
            "...                       ...                     ...   \n",
            "2184             Some of them                   Maybe   \n",
            "2185             None of them                   Maybe   \n",
            "2186             Some of them                   Maybe   \n",
            "2187             None of them                   Maybe   \n",
            "2188             None of them                   Maybe   \n",
            "\n",
            "                                            why/why_not  \\\n",
            "0                                                   NaN   \n",
            "1     It would depend on the health issue. If there ...   \n",
            "2     They would provable need to know, to Judge if ...   \n",
            "3     old back injury, doesn't cause me many issues ...   \n",
            "4     Depending on the interview stage and whether I...   \n",
            "...                                                 ...   \n",
            "2184                         Depends how relevant it is   \n",
            "2185              Full disclosure, work accommodations.   \n",
            "2186                                                 ww   \n",
            "2187  because none of the phyiscal things wrong with...   \n",
            "2188                                               Lala   \n",
            "\n",
            "     future_mh_specification  \\\n",
            "0                      Maybe   \n",
            "1                         No   \n",
            "2                        Yes   \n",
            "3                      Maybe   \n",
            "4                         No   \n",
            "...                      ...   \n",
            "2184                   Maybe   \n",
            "2185                   Maybe   \n",
            "2186                      No   \n",
            "2187                      No   \n",
            "2188                      No   \n",
            "\n",
            "                                           why/why_not2  \\\n",
            "0                                                   NaN   \n",
            "1     While mental health has become a more prominen...   \n",
            "2                                      Stigma, mainly.    \n",
            "3     would not if I was not 100% sure that the disc...   \n",
            "4                                          I don't know   \n",
            "...                                                 ...   \n",
            "2184                         Depends how relevant it is   \n",
            "2185  Full disclosure, work accommodations, but woul...   \n",
            "2186                                                 ww   \n",
            "2187                                  just not the time   \n",
            "2188                                              Off!    \n",
            "\n",
            "               mh_hurt_on_career            mh_neg_view_cowork  \\\n",
            "0                          Maybe  No, I don't think they would   \n",
            "1     No, I don't think it would  No, I don't think they would   \n",
            "2                          Maybe                         Maybe   \n",
            "3          Yes, I think it would                         Maybe   \n",
            "4          Yes, I think it would                         Maybe   \n",
            "...                          ...                           ...   \n",
            "2184                       Maybe       Yes, I think they would   \n",
            "2185                       Maybe       Yes, I think they would   \n",
            "2186                       Maybe       Yes, I think they would   \n",
            "2187                       Maybe  No, I don't think they would   \n",
            "2188                       Maybe       Yes, I think they would   \n",
            "\n",
            "     mh_sharing_friends/fam_flag mh_bad_response_workplace mh_family_hist  \\\n",
            "0                  Somewhat open                        No             No   \n",
            "1                  Somewhat open                        No            Yes   \n",
            "2                  Somewhat open            Maybe/Not sure             No   \n",
            "3                        Neutral                        No             No   \n",
            "4                  Somewhat open        Yes, I experienced            Yes   \n",
            "...                          ...                       ...            ...   \n",
            "2184               Somewhat open            Maybe/Not sure             No   \n",
            "2185                     Neutral            Maybe/Not sure             No   \n",
            "2186           Somewhat not open                       NaN            Yes   \n",
            "2187                     Neutral                        No             No   \n",
            "2188               Somewhat open                       NaN            Yes   \n",
            "\n",
            "     mh_disorder_past mh_disorder_current mh_diagnos_proffesional  \\\n",
            "0                 Yes                  No                     Yes   \n",
            "1                 Yes                 Yes                     Yes   \n",
            "2               Maybe                  No                      No   \n",
            "3                 Yes                 Yes                     Yes   \n",
            "4                 Yes                 Yes                     Yes   \n",
            "...               ...                 ...                     ...   \n",
            "2184              Yes                  No                     Yes   \n",
            "2185              Yes                 Yes                     Yes   \n",
            "2186              Yes                 Yes                     Yes   \n",
            "2187         Possibly            Possibly                      No   \n",
            "2188              Yes                 Yes                     Yes   \n",
            "\n",
            "      mh_sought_proffes_treatm mh_eff_treat_impact_on_work  \\\n",
            "0                            0        Not applicable to me   \n",
            "1                            1                      Rarely   \n",
            "2                            1        Not applicable to me   \n",
            "3                            1                   Sometimes   \n",
            "4                            1                   Sometimes   \n",
            "...                        ...                         ...   \n",
            "2184                         1        Not applicable to me   \n",
            "2185                         1                   Sometimes   \n",
            "2186                         1                      Rarely   \n",
            "2187                         0        Not applicable to me   \n",
            "2188                         0                   Sometimes   \n",
            "\n",
            "     mh_not_eff_treat_impact_on_work   age  sex country_live live_us_teritory  \\\n",
            "0               Not applicable to me  39.0  1.0           UK              NaN   \n",
            "1                          Sometimes  29.0  1.0          USA         Illinois   \n",
            "2               Not applicable to me  38.0  1.0           UK              NaN   \n",
            "3                          Sometimes  43.0  1.0           UK              NaN   \n",
            "4                          Sometimes  43.0  2.0          USA         Illinois   \n",
            "...                              ...   ...  ...          ...              ...   \n",
            "2184            Not applicable to me  41.0  1.0           UK              NaN   \n",
            "2185                           Often  40.0  1.0          USA            Texas   \n",
            "2186                       Sometimes   NaN  NaN          NaN              NaN   \n",
            "2187            Not applicable to me  30.0  1.0          USA        Tennessee   \n",
            "2188                           Often   NaN  NaN          NaN              NaN   \n",
            "\n",
            "     country_work work_us_teritory  \n",
            "0              UK              NaN  \n",
            "1             USA         Illinois  \n",
            "2              UK              NaN  \n",
            "3              UK              NaN  \n",
            "4             USA         Illinois  \n",
            "...           ...              ...  \n",
            "2184           UK              NaN  \n",
            "2185          USA            Texas  \n",
            "2186          NaN              NaN  \n",
            "2187          USA        Tennessee  \n",
            "2188          NaN              NaN  \n",
            "\n",
            "[2189 rows x 48 columns]\n"
          ],
          "name": "stdout"
        }
      ]
    },
    {
      "cell_type": "code",
      "metadata": {
        "colab": {
          "base_uri": "https://localhost:8080/"
        },
        "id": "Jg1-irXQT6Ho",
        "outputId": "0d54d17e-2fda-4ae8-bb99-ddbd724d4c7a"
      },
      "source": [
        "import pandas as pd\n",
        "print(\"pandas version: \", pd.__version__)\n",
        "\n",
        "pd.set_option('display.max_rows', None)\n"
      ],
      "execution_count": 12,
      "outputs": [
        {
          "output_type": "stream",
          "text": [
            "pandas version:  1.1.5\n"
          ],
          "name": "stdout"
        }
      ]
    },
    {
      "cell_type": "code",
      "metadata": {
        "id": "JCT1ZZz6wTQ5"
      },
      "source": [
        "#survey_2016"
      ],
      "execution_count": null,
      "outputs": []
    },
    {
      "cell_type": "code",
      "metadata": {
        "id": "fJAGv2Wg6cS8",
        "colab": {
          "base_uri": "https://localhost:8080/"
        },
        "outputId": "3cc51268-6603-405b-dda2-6a0455c3bd26"
      },
      "source": [
        "\n",
        "# Impute nan with the most frequent value (mode) on every row\n",
        "imp = SimpleImputer(missing_values=np.nan, strategy='most_frequent')\n",
        "# 여기서 결측치를 제거 합니다. \n",
        "print(imp)\n",
        "#encoder.fit_transform(imp[:].astype(str))\n",
        "imp.fit(survey_2016)\n",
        "imp_data = pd.DataFrame(data = imp.transform(survey_2016), columns = survey_2016.columns)\n",
        "print(imp_data)"
      ],
      "execution_count": 13,
      "outputs": [
        {
          "output_type": "stream",
          "text": [
            "SimpleImputer(add_indicator=False, copy=True, fill_value=None,\n",
            "              missing_values=nan, strategy='most_frequent', verbose=0)\n"
          ],
          "name": "stdout"
        },
        {
          "output_type": "stream",
          "text": [
            "IOPub data rate exceeded.\n",
            "The notebook server will temporarily stop sending output\n",
            "to the client in order to avoid crashing it.\n",
            "To change this limit, set the config variable\n",
            "`--NotebookApp.iopub_data_rate_limit`.\n",
            "\n",
            "Current values:\n",
            "NotebookApp.iopub_data_rate_limit=1000000.0 (bytes/sec)\n",
            "NotebookApp.rate_limit_window=3.0 (secs)\n",
            "\n"
          ],
          "name": "stderr"
        }
      ]
    },
    {
      "cell_type": "code",
      "metadata": {
        "id": "2EbJHqfU6z6d",
        "colab": {
          "base_uri": "https://localhost:8080/"
        },
        "outputId": "c61922e0-8ffe-461a-f88e-3e0a72760d63"
      },
      "source": [
        "# ----------- ENCODING -----------\n",
        "# Split data into 2 datasets: one that needs to be encoded, one that doesnt need to\n",
        "cols = [x for x in imp_data.columns if x not in ['age', 'why/why_not', 'why/why_not2', 'country_live',\n",
        "       'live_us_teritory', 'country_work', 'work_us_teritory', 'work_position']]\n",
        "\n",
        "data_to_encode = imp_data[cols]\n",
        "data_not_encode = imp_data[['why/why_not', 'why/why_not2', 'country_live',\n",
        "       'live_us_teritory', 'country_work', 'work_us_teritory']]\n",
        "\n",
        "# Importing OneHotEncoder\n",
        "from sklearn.preprocessing import OneHotEncoder\n",
        "from sklearn.preprocessing import LabelEncoder\n",
        "\n",
        "def encode(data):\n",
        "    cat_columns = list(data.select_dtypes(include=['category','object']))\n",
        "    column_mask = []\n",
        "    \n",
        "    for column_name in list(data.columns.values):\n",
        "        column_mask.append(column_name in cat_columns)\n",
        "\n",
        "    le = LabelEncoder()\n",
        "    ohe = OneHotEncoder(categorical_features = column_mask)\n",
        "    \n",
        "    for col in cat_columns:\n",
        "        data[col] = le.fit_transform(data[col])\n",
        "    data = ohe.fit_transform(data)\n",
        "    \n",
        "    return data\n",
        "\n",
        "encode(data_to_encode)\n",
        "matrix = encode(data_to_encode)\n",
        "encoded_data = pd.DataFrame(matrix) # to dataframe\n",
        "print(encoded_data.shape)\n",
        "print(data_not_encode.shape)\n",
        "encoded_data.columns = data_to_encode.columns\n",
        "\n",
        "# Preprocessed data\n",
        "prep_data = pd.concat(objs = [encoded_data, data_not_encode], axis = 1)  \n",
        "#print(prep_data) \n"
      ],
      "execution_count": 14,
      "outputs": [
        {
          "output_type": "stream",
          "text": [
            "(2189, 41)\n",
            "(2189, 6)\n"
          ],
          "name": "stdout"
        }
      ]
    },
    {
      "cell_type": "code",
      "metadata": {
        "id": "ZTXZPS907V3k",
        "colab": {
          "base_uri": "https://localhost:8080/",
          "height": 142
        },
        "outputId": "cfddb346-274e-4fb2-d202-bf9ccacb4288"
      },
      "source": [
        "# ----------- OTHER CHANGES -----------\n",
        "# There are 53 total countries\n",
        "# Out of all, most respondents are in US, UK, Canada, Germany, Netherlands and Australia.\n",
        "# Usually, for a sample to be representative enough for the population, the size needs to be by convention >30.\n",
        "# Respondents cannot be treated equaly within a response (different background, culture etc.), so we will exclude all nations\n",
        "        #with a sample size smaller than 30. Because countries with no. responses > 30 are quite similar (well developed countries\n",
        "        #with big economies and similar living standards), some of the analytics will incorporate all countries as one.\n",
        "\n",
        "# Keep only countries with no. responses > 30.\n",
        "imp_data = imp_data[imp_data['country_work'].isin(['USA', 'UK', 'Canada', \n",
        "                                                   'Germany', 'Netherlands','Australia'])]\n",
        "imp_data = imp_data[imp_data['country_live'].isin(['USA', 'UK', 'Canada', \n",
        "                                                   'Germany', 'Netherlands','Australia'])]\n",
        "\n",
        "prep_data = prep_data[prep_data['country_work'].isin(['USA', 'UK', 'Canada', \n",
        "                                                   'Germany', 'Netherlands','Australia'])]\n",
        "prep_data = prep_data[prep_data['country_live'].isin(['USA', 'UK', 'Canada', \n",
        "                                                   'Germany', 'Netherlands','Australia'])]\n",
        "\n",
        "# Unfortunatelly, the tech flag that identified if the respondent works/ doesn't work in tech had a lot of missing values\n",
        "# So, we will need to map the 'work_position' column (that didn't have any missing values initially)\n",
        "# Create the list with tech work positions\n",
        "\"\"\"\n",
        "tech_list = []\n",
        "tech_list.append(imp_data[imp_data['work_position'].str.contains('Back-end')]['work_position'].tolist())\n",
        "tech_list.append(imp_data[imp_data['work_position'].str.contains('Front-end')]['work_position'].tolist())\n",
        "tech_list.append(imp_data[imp_data['work_position'].str.contains('Dev')]['work_position'].tolist())\n",
        "tech_list.append(imp_data[imp_data['work_position'].str.contains('DevOps')]['work_position'].tolist())\n",
        "\n",
        "# Reshape the list (that is a list of lists) and remove duplicates\n",
        "flat_list = [item for sublist in tech_list for item in sublist]\n",
        "flat_list = list(dict.fromkeys(flat_list))\n",
        "\n",
        "# Create a new column and recode it\n",
        "imp_data['tech_flag'] = imp_data['work_position']\n",
        "imp_data['tech_flag'].replace(to_replace = flat_list, value = 1, inplace = True)\n",
        "\n",
        "# The other items - non tech\n",
        "remain_list = imp_data['tech_flag'].unique()[1:].tolist()\n",
        "\n",
        "imp_data['tech_flag'].replace(to_replace = remain_list, value = 0, inplace = True)\n",
        "\n",
        "# The same for prep_data\n",
        "# Create a new column and recode it\n",
        "prep_data['tech_flag'] = prep_data['work_position']\n",
        "prep_data['tech_flag'].replace(to_replace = flat_list, value = 1, inplace = True)\n",
        "\n",
        "# The other items - non tech\n",
        "prep_data['tech_flag'].replace(to_replace = remain_list, value = 0, inplace = True)\n",
        "\"\"\""
      ],
      "execution_count": 15,
      "outputs": [
        {
          "output_type": "execute_result",
          "data": {
            "application/vnd.google.colaboratory.intrinsic+json": {
              "type": "string"
            },
            "text/plain": [
              "\"\\ntech_list = []\\ntech_list.append(imp_data[imp_data['work_position'].str.contains('Back-end')]['work_position'].tolist())\\ntech_list.append(imp_data[imp_data['work_position'].str.contains('Front-end')]['work_position'].tolist())\\ntech_list.append(imp_data[imp_data['work_position'].str.contains('Dev')]['work_position'].tolist())\\ntech_list.append(imp_data[imp_data['work_position'].str.contains('DevOps')]['work_position'].tolist())\\n\\n# Reshape the list (that is a list of lists) and remove duplicates\\nflat_list = [item for sublist in tech_list for item in sublist]\\nflat_list = list(dict.fromkeys(flat_list))\\n\\n# Create a new column and recode it\\nimp_data['tech_flag'] = imp_data['work_position']\\nimp_data['tech_flag'].replace(to_replace = flat_list, value = 1, inplace = True)\\n\\n# The other items - non tech\\nremain_list = imp_data['tech_flag'].unique()[1:].tolist()\\n\\nimp_data['tech_flag'].replace(to_replace = remain_list, value = 0, inplace = True)\\n\\n# The same for prep_data\\n# Create a new column and recode it\\nprep_data['tech_flag'] = prep_data['work_position']\\nprep_data['tech_flag'].replace(to_replace = flat_list, value = 1, inplace = True)\\n\\n# The other items - non tech\\nprep_data['tech_flag'].replace(to_replace = remain_list, value = 0, inplace = True)\\n\""
            ]
          },
          "metadata": {
            "tags": []
          },
          "execution_count": 15
        }
      ]
    },
    {
      "cell_type": "code",
      "metadata": {
        "colab": {
          "base_uri": "https://localhost:8080/"
        },
        "id": "VebfRKVvb1JY",
        "outputId": "42095844-9586-42ca-da30-b993cf97635e"
      },
      "source": [
        "print(prep_data.shape)"
      ],
      "execution_count": 16,
      "outputs": [
        {
          "output_type": "stream",
          "text": [
            "(1873, 47)\n"
          ],
          "name": "stdout"
        }
      ]
    },
    {
      "cell_type": "markdown",
      "metadata": {
        "id": "uwGk2siXbkhB"
      },
      "source": [
        "나라 중에 30개가 넘는 표본을 추출 및 기술직군애 관해 분리해서 다시 preprocessing 하는것"
      ]
    },
    {
      "cell_type": "code",
      "metadata": {
        "id": "JKlm3aMxcWMj"
      },
      "source": [
        "import matplotlib as mpl\n",
        "sns.set_style('whitegrid')\n",
        "sns.set_palette('Set2')\n",
        "mpl.rcParams['font.size'] = 16\n",
        "import matplotlib.gridspec as gridspec"
      ],
      "execution_count": 17,
      "outputs": []
    },
    {
      "cell_type": "code",
      "metadata": {
        "id": "gxSbKtH4CJOc"
      },
      "source": [
        "#imp_data[imp_data['tech_flag'] == 1]['age'].describe()"
      ],
      "execution_count": 18,
      "outputs": []
    },
    {
      "cell_type": "code",
      "metadata": {
        "id": "Uge_8_l87dQv"
      },
      "source": [
        "import matplotlib as mpl\n",
        "sns.set_style('whitegrid')\n",
        "sns.set_palette('Set2')\n",
        "mpl.rcParams['font.size'] = 16\n",
        "import matplotlib.gridspec as gridspec"
      ],
      "execution_count": 19,
      "outputs": []
    },
    {
      "cell_type": "code",
      "metadata": {
        "id": "sMBDIqJ18yG_"
      },
      "source": [
        "from sklearn.neural_network import MLPClassifier\n",
        "from xgboost import XGBClassifier, XGBRFClassifier\n",
        "\n",
        "from sklearn.metrics import confusion_matrix, accuracy_score, roc_auc_score, roc_curve\n",
        "from sklearn import preprocessing"
      ],
      "execution_count": 20,
      "outputs": []
    },
    {
      "cell_type": "code",
      "metadata": {
        "id": "CSWKDUbi878P"
      },
      "source": [
        "# Excluding non numeric columns from dataset\n",
        "model_data = prep_data.copy()\n",
        "col_numeric = [cols for cols in model_data.columns if model_data[cols].dtype in ['int64', 'float64']]\n",
        "model_data = model_data[col_numeric]\n",
        "\n",
        "# Model data is our new dataset for predicting variable 'mh_disorder_current'\n",
        "\n",
        "# Feature variables and target variable\n",
        "y = model_data['mh_disorder_current']\n",
        "\n",
        "cols = [col for col in model_data.columns if col not in ['mh_disorder_current']]\n",
        "X = model_data[cols]\n",
        "\n",
        "# Data Validation\n",
        "X_train, X_test, y_train, y_test = train_test_split(X, y, test_size=0.3, random_state=42)"
      ],
      "execution_count": 21,
      "outputs": []
    },
    {
      "cell_type": "code",
      "metadata": {
        "id": "x_cC59Dn9HFA"
      },
      "source": [
        "# Predefined function\n",
        "def model_assess(model, name='Default'):\n",
        "    model.fit(X_train, y_train)\n",
        "    preds = model.predict(X_test)\n",
        "    print('---', name, '---', '\\n',\n",
        "          confusion_matrix(y_test, preds), '\\n',\n",
        "          'Accuracy:', round(accuracy_score(y_test, preds), 5), '\\n')"
      ],
      "execution_count": 22,
      "outputs": []
    },
    {
      "cell_type": "code",
      "metadata": {
        "colab": {
          "base_uri": "https://localhost:8080/"
        },
        "id": "pV8hCm2BCf85",
        "outputId": "20e615e8-8a57-440e-d824-e0635e6f896a"
      },
      "source": [
        "# Neural Nets\n",
        "nn = MLPClassifier(solver='lbfgs', alpha=1e-5, hidden_layer_sizes=(150, 10), random_state=1)\n",
        "model_assess(nn, 'Neural Nets')\n",
        "\n",
        "# Cross Gradient Booster\n",
        "xgb = XGBClassifier(n_estimators=1000, learning_rate=0.05)\n",
        "model_assess(xgb, 'XGBoost')\n",
        "\n",
        "# Cross Gradient Booster (Random Forest) <=================== BEST\n",
        "xgbrf = XGBRFClassifier(objective= 'multi:softmax')\n",
        "model_assess(xgbrf, 'XGBoost RF')"
      ],
      "execution_count": 23,
      "outputs": [
        {
          "output_type": "stream",
          "text": [
            "--- Neural Nets --- \n",
            " [[  2   0   7   3   2]\n",
            " [  0  33  17   0  15]\n",
            " [  1  21 138   5  26]\n",
            " [  2   1  14  11  14]\n",
            " [  0  36  28  14 172]] \n",
            " Accuracy: 0.63345 \n",
            "\n",
            "--- XGBoost --- \n",
            " [[  5   0   4   4   1]\n",
            " [  0  36  16   0  13]\n",
            " [  0  16 152   2  21]\n",
            " [  1   1  10  17  13]\n",
            " [  0  22   6   8 214]] \n",
            " Accuracy: 0.75445 \n",
            "\n",
            "--- XGBoost RF --- \n",
            " [[  6   0   4   3   1]\n",
            " [  0  26  19   0  20]\n",
            " [  0   9 151   2  29]\n",
            " [  3   0   9  10  20]\n",
            " [  0   3   4   2 241]] \n",
            " Accuracy: 0.77224 \n",
            "\n"
          ],
          "name": "stdout"
        }
      ]
    },
    {
      "cell_type": "code",
      "metadata": {
        "id": "TdkMlwP5CkFr"
      },
      "source": [
        "from sklearn.model_selection import GridSearchCV\n",
        "\n",
        "# Grid Search Function\n",
        "def gridSearch(parameters):\n",
        "    gsearch = GridSearchCV(estimator = XGBRFClassifier(learning_rate =0.00001,n_estimators=1000,max_depth=1,min_child_weight=4,\n",
        "                                                    gamma=0.3,subsample=0.8,colsample_bytree=0.8,objective= 'multi:softmax',\n",
        "                                                    nthread=5,scale_pos_weight=1), \n",
        "                        param_grid = parameters, cv=5)\n",
        "    gsearch.fit(X_train,y_train)\n",
        "    print('best params:', gsearch.best_params_)\n",
        "    predictions = gsearch.predict(X_test)\n",
        "    print('Accuracy:', round(accuracy_score(y_test, predictions), 5))"
      ],
      "execution_count": 24,
      "outputs": []
    },
    {
      "cell_type": "code",
      "metadata": {
        "id": "ijALOmZ6lWHa"
      },
      "source": [
        "#print(y_test)"
      ],
      "execution_count": 25,
      "outputs": []
    },
    {
      "cell_type": "code",
      "metadata": {
        "colab": {
          "base_uri": "https://localhost:8080/"
        },
        "id": "NiBT7dlhCp_a",
        "outputId": "4f49eec8-f4c7-4df9-8ea0-c715e908f600"
      },
      "source": [
        "param_test1 = {\n",
        " 'min_child_weight':[1, 2, 3, 4]\n",
        "}\n",
        "\n",
        "gridSearch(param_test1)"
      ],
      "execution_count": 26,
      "outputs": [
        {
          "output_type": "stream",
          "text": [
            "best params: {'min_child_weight': 1}\n",
            "Accuracy: 0.74555\n"
          ],
          "name": "stdout"
        }
      ]
    },
    {
      "cell_type": "code",
      "metadata": {
        "id": "nBAzT38cCs6F",
        "colab": {
          "base_uri": "https://localhost:8080/"
        },
        "outputId": "91ab45ed-c24b-4827-8971-a25ee5663827"
      },
      "source": [
        "param_test2 = {\n",
        " 'gamma':[i/10.0 for i in range(0,5)]\n",
        "}\n",
        "\n",
        "gridSearch(param_test2)"
      ],
      "execution_count": 27,
      "outputs": [
        {
          "output_type": "stream",
          "text": [
            "best params: {'gamma': 0.0}\n",
            "Accuracy: 0.74555\n"
          ],
          "name": "stdout"
        }
      ]
    },
    {
      "cell_type": "code",
      "metadata": {
        "colab": {
          "base_uri": "https://localhost:8080/"
        },
        "id": "yoni4EmxCySC",
        "outputId": "40d6ae9c-25d1-48b7-b14b-f651b2399f83"
      },
      "source": [
        "xgbrf_tuned = XGBRFClassifier(objective= 'multi:softmax', learning_rate =0.000001, n_estimators=1000, max_depth=1, \n",
        "                              min_child_weight=5,gamma = 0.3, subsample=0.8, colsample_bytree=0.9, \n",
        "                              nthread=4, scale_pos_weight=1)\n",
        "model_assess(xgbrf_tuned)"
      ],
      "execution_count": 28,
      "outputs": [
        {
          "output_type": "stream",
          "text": [
            "--- Default --- \n",
            " [[  0   0  12   0   2]\n",
            " [  0  25  20   0  20]\n",
            " [  0   9 154   0  28]\n",
            " [  0   3  18   0  21]\n",
            " [  0   4   4   0 242]] \n",
            " Accuracy: 0.74911 \n",
            "\n"
          ],
          "name": "stdout"
        }
      ]
    },
    {
      "cell_type": "code",
      "metadata": {
        "id": "qMSIy6JtCysM",
        "colab": {
          "base_uri": "https://localhost:8080/"
        },
        "outputId": "a8d3056e-59df-4b68-ad32-3b89cbd01ade"
      },
      "source": [
        "# Creating new train datasets only with features that have an importance bigger than 0.004\n",
        "X_train_new = X_train[['mh_disorder_past', 'mh_not_eff_treat_impact_on_work', 'mh_diagnos_proffesional', \n",
        "                       'mh_eff_treat_impact_on_work']]\n",
        "X_test_new = X_test[['mh_disorder_past', 'mh_not_eff_treat_impact_on_work', 'mh_diagnos_proffesional', \n",
        "                       'mh_eff_treat_impact_on_work']]\n",
        "\n",
        "# Fitting the model to the new train datasets to see if we get a better accuracy\n",
        "xgbrf_perm_imp = XGBRFClassifier(objective= 'multi:softmax', learning_rate =0.00001, n_estimators=1000, max_depth=1, \n",
        "                              min_child_weight=5,gamma = 0.3, subsample=0.8, colsample_bytree=0.9, \n",
        "                              nthread=4, scale_pos_weight=1)\n",
        "xgbrf_perm_imp.fit(X_train_new, y_train)\n",
        "predictions = xgbrf_perm_imp.predict(X_test_new)\n",
        "print(confusion_matrix(y_test, predictions))\n",
        "print('Accuracy:', accuracy_score(y_test, predictions))"
      ],
      "execution_count": 29,
      "outputs": [
        {
          "output_type": "stream",
          "text": [
            "[[  0   0  11   0   3]\n",
            " [  0  23  20   0  22]\n",
            " [  0   4 150   0  37]\n",
            " [  0   2  16   0  24]\n",
            " [  0   0   3   0 247]]\n",
            "Accuracy: 0.7473309608540926\n"
          ],
          "name": "stdout"
        }
      ]
    },
    {
      "cell_type": "markdown",
      "metadata": {
        "id": "3cWXYXjC2033"
      },
      "source": [
        "## Parameter Tuning"
      ]
    },
    {
      "cell_type": "code",
      "metadata": {
        "id": "9aJ19ou52zBU",
        "colab": {
          "base_uri": "https://localhost:8080/"
        },
        "outputId": "abdf13b5-7f30-45b1-8b9b-5c21e96103ff"
      },
      "source": [
        "# Neural Nets\n",
        "nn = MLPClassifier(solver='lbfgs', alpha=1e-5, hidden_layer_sizes=(150, 10), random_state=1)\n",
        "model_assess(nn, 'Neural Nets')"
      ],
      "execution_count": 30,
      "outputs": [
        {
          "output_type": "stream",
          "text": [
            "--- Neural Nets --- \n",
            " [[  2   0   7   3   2]\n",
            " [  0  33  17   0  15]\n",
            " [  1  21 138   5  26]\n",
            " [  2   1  14  11  14]\n",
            " [  0  36  28  14 172]] \n",
            " Accuracy: 0.63345 \n",
            "\n"
          ],
          "name": "stdout"
        }
      ]
    },
    {
      "cell_type": "markdown",
      "metadata": {
        "id": "CuxDnfrR8WwP"
      },
      "source": [
        "- 2016 데이터 기준  \n",
        "n_estimators 100 - 1000, 100단위:   \n",
        "100->0.78976   \n",
        "n_estimators 10 - 100, 10단위:   \n",
        "30->0.80593"
      ]
    },
    {
      "cell_type": "markdown",
      "metadata": {
        "id": "wDyPKuIS8wJf"
      },
      "source": [
        "- 2016 데이터 기준  \n",
        "learning_rate 0.01 - 0.1, 0.01단위:  \n",
        "0.03->0.80863"
      ]
    },
    {
      "cell_type": "code",
      "metadata": {
        "id": "YZR4cSlF971T",
        "colab": {
          "base_uri": "https://localhost:8080/"
        },
        "outputId": "55a19889-0d2d-49cd-add3-bdafeb75da27"
      },
      "source": [
        "xgb = XGBClassifier(booster='gbtree', n_estimators=30, learning_rate=0.03)\n",
        "model_assess(xgb, 'XGBoost')"
      ],
      "execution_count": 31,
      "outputs": [
        {
          "output_type": "stream",
          "text": [
            "--- XGBoost --- \n",
            " [[  4   0   4   5   1]\n",
            " [  0  26  19   0  20]\n",
            " [  0  11 149   2  29]\n",
            " [  1   0   9  12  20]\n",
            " [  0   3   4   2 241]] \n",
            " Accuracy: 0.76868 \n",
            "\n"
          ],
          "name": "stdout"
        }
      ]
    },
    {
      "cell_type": "markdown",
      "metadata": {
        "id": "zVb3YWo3_EYS"
      },
      "source": [
        "- 2016 데이터 기준\n",
        "max_depth 3 - 8:  \n",
        "3->0.80863"
      ]
    },
    {
      "cell_type": "markdown",
      "metadata": {
        "id": "7U1MxKuE_4pg"
      },
      "source": [
        "colsample_bytree=1, colsample_bylevel=1"
      ]
    },
    {
      "cell_type": "markdown",
      "metadata": {
        "id": "rt5p_YE9AaGJ"
      },
      "source": [
        "min_child_weight=1"
      ]
    },
    {
      "cell_type": "code",
      "metadata": {
        "id": "WGhbwIB83CXR"
      },
      "source": [
        "for i in range(1,11):\n",
        "  k=i\n",
        "  xgb = XGBClassifier(max_depth=3, n_estimators=30, learning_rate=0.03, min_child_weight=k, colsample_bytree=1, colsample_bylevel=1)\n",
        "  model_assess(xgb, 'XGBoost')"
      ],
      "execution_count": null,
      "outputs": []
    },
    {
      "cell_type": "code",
      "metadata": {
        "id": "YkCTY2Xn8Bxn",
        "colab": {
          "base_uri": "https://localhost:8080/"
        },
        "outputId": "36daeede-ed6e-43c4-8b48-26f480313b67"
      },
      "source": [
        "xgbrf = XGBRFClassifier(objective= 'multi:softmax', n_estimators=30, learning_rate=0.03)\n",
        "model_assess(xgbrf, 'XGBoost RF')"
      ],
      "execution_count": 34,
      "outputs": [
        {
          "output_type": "stream",
          "text": [
            "--- XGBoost RF --- \n",
            " [[  6   0   4   3   1]\n",
            " [  0  26  18   1  20]\n",
            " [  0   9 150   3  29]\n",
            " [  3   0   9  10  20]\n",
            " [  0   3   4   2 241]] \n",
            " Accuracy: 0.77046 \n",
            "\n"
          ],
          "name": "stdout"
        }
      ]
    },
    {
      "cell_type": "markdown",
      "metadata": {
        "id": "eNRv_kpAGn90"
      },
      "source": [
        "### MLPClassifier"
      ]
    },
    {
      "cell_type": "code",
      "metadata": {
        "colab": {
          "base_uri": "https://localhost:8080/"
        },
        "id": "wVDvc5rVIZm_",
        "outputId": "900feced-0a02-4ff6-9bc5-6db0808107a3"
      },
      "source": [
        "# Neural Nets\n",
        "nn = MLPClassifier(solver='lbfgs', alpha=1e-5, hidden_layer_sizes=(150, 10), random_state=1)\n",
        "model_assess(nn, 'Neural Nets')"
      ],
      "execution_count": 35,
      "outputs": [
        {
          "output_type": "stream",
          "text": [
            "--- Neural Nets --- \n",
            " [[  2   0   7   3   2]\n",
            " [  0  33  17   0  15]\n",
            " [  1  21 138   5  26]\n",
            " [  2   1  14  11  14]\n",
            " [  0  36  28  14 172]] \n",
            " Accuracy: 0.63345 \n",
            "\n"
          ],
          "name": "stdout"
        }
      ]
    },
    {
      "cell_type": "code",
      "metadata": {
        "colab": {
          "base_uri": "https://localhost:8080/"
        },
        "id": "aNc4WBBGGnX2",
        "outputId": "941d95ad-a8f1-4327-ffde-8ab8a8e2c55f"
      },
      "source": [
        "# Neural Nets\n",
        "nn = MLPClassifier()\n",
        "model_assess(nn, 'Neural Nets')"
      ],
      "execution_count": 36,
      "outputs": [
        {
          "output_type": "stream",
          "text": [
            "--- Neural Nets --- \n",
            " [[  4   0   6   2   2]\n",
            " [  0  24  26   0  15]\n",
            " [  3  23 137   2  26]\n",
            " [  1   0  13  11  17]\n",
            " [  0  32  19  12 187]] \n",
            " Accuracy: 0.64591 \n",
            "\n"
          ],
          "name": "stdout"
        }
      ]
    },
    {
      "cell_type": "code",
      "metadata": {
        "colab": {
          "base_uri": "https://localhost:8080/"
        },
        "id": "FRhhZN_rHigM",
        "outputId": "e3b47119-af8e-40d6-f690-38737487190a"
      },
      "source": [
        "nn = MLPClassifier(hidden_layer_sizes=(100,), activation='relu', solver='sgd', alpha=0.0001, batch_size='auto', \n",
        "                   learning_rate='constant', learning_rate_init=0.001, power_t=0.5, max_iter=200, shuffle=True, \n",
        "                   random_state=None, tol=0.0001, verbose=False, warm_start=False, momentum=0.9, nesterovs_momentum=True, \n",
        "                   early_stopping=False, validation_fraction=0.1, beta_1=0.9, beta_2=0.999, epsilon=1e-08, \n",
        "                   n_iter_no_change=10)\n",
        "model_assess(nn, 'Neural Nets')"
      ],
      "execution_count": 37,
      "outputs": [
        {
          "output_type": "stream",
          "text": [
            "--- Neural Nets --- \n",
            " [[  0   0   9   3   2]\n",
            " [  0  26  21   1  17]\n",
            " [  0  11 148   2  30]\n",
            " [  0   3  12   8  19]\n",
            " [  0  14  12   5 219]] \n",
            " Accuracy: 0.71352 \n",
            "\n"
          ],
          "name": "stdout"
        }
      ]
    },
    {
      "cell_type": "markdown",
      "metadata": {
        "id": "qzYR7SucJclO"
      },
      "source": [
        "solver='sgd'"
      ]
    },
    {
      "cell_type": "code",
      "metadata": {
        "colab": {
          "base_uri": "https://localhost:8080/"
        },
        "id": "hmAPBmrxJlVL",
        "outputId": "ec2c002c-2735-4a9c-a79c-9092bdb25c6e"
      },
      "source": [
        "nn = MLPClassifier(hidden_layer_sizes=(100,), activation='relu', solver='sgd', alpha=0.0001, batch_size='auto', \n",
        "                   learning_rate='adaptive', learning_rate_init=0.001, power_t=0.5, max_iter=200, shuffle=True, \n",
        "                   random_state=None, tol=0.0001, verbose=False, warm_start=False, momentum=0.9, nesterovs_momentum=True, \n",
        "                   early_stopping=False, validation_fraction=0.1, beta_1=0.9, beta_2=0.999, epsilon=1e-08, \n",
        "                   n_iter_no_change=10)\n",
        "model_assess(nn, 'Neural Nets')"
      ],
      "execution_count": 38,
      "outputs": [
        {
          "output_type": "stream",
          "text": [
            "--- Neural Nets --- \n",
            " [[  0   0  10   2   2]\n",
            " [  0  30  18   0  17]\n",
            " [  0  12 147   2  30]\n",
            " [  0   2  13   8  19]\n",
            " [  0  14  16   4 216]] \n",
            " Accuracy: 0.71352 \n",
            "\n"
          ],
          "name": "stdout"
        }
      ]
    },
    {
      "cell_type": "markdown",
      "metadata": {
        "id": "JnuGVUsGJvRX"
      },
      "source": [
        "learning_rate='adaptive'"
      ]
    },
    {
      "cell_type": "code",
      "metadata": {
        "colab": {
          "base_uri": "https://localhost:8080/"
        },
        "id": "p5fLmzduM8Vx",
        "outputId": "f55eae3c-811f-4b5b-e7b7-5e5e0bff18a2"
      },
      "source": [
        "nn = MLPClassifier(hidden_layer_sizes=(100,), activation='relu', solver='sgd', alpha=0.0001, batch_size=50, \n",
        "                   learning_rate='adaptive', learning_rate_init=0.001, power_t=0.5, max_iter=200, shuffle=True, \n",
        "                   random_state=23, tol=0.0001, verbose=False, warm_start=False, momentum=0.9, nesterovs_momentum=True, \n",
        "                   early_stopping=False, validation_fraction=0.1, beta_1=0.9, beta_2=0.999, epsilon=1e-08, \n",
        "                   n_iter_no_change=10)\n",
        "model_assess(nn, 'Neural Nets')"
      ],
      "execution_count": 39,
      "outputs": [
        {
          "output_type": "stream",
          "text": [
            "--- Neural Nets --- \n",
            " [[  3   0   7   2   2]\n",
            " [  0  31  19   0  15]\n",
            " [  1  13 147   3  27]\n",
            " [  1   1  10  15  15]\n",
            " [  1  18   8   7 216]] \n",
            " Accuracy: 0.7331 \n",
            "\n"
          ],
          "name": "stdout"
        }
      ]
    },
    {
      "cell_type": "markdown",
      "metadata": {
        "id": "5KAJ0Og3MszE"
      },
      "source": [
        "batch size=50, 60   "
      ]
    },
    {
      "cell_type": "markdown",
      "metadata": {
        "id": "x4n_bt-vPDzp"
      },
      "source": [
        "alpha= 상관 X"
      ]
    },
    {
      "cell_type": "markdown",
      "metadata": {
        "id": "qfbXiivLQ-nA"
      },
      "source": [
        "max_iter=200"
      ]
    },
    {
      "cell_type": "markdown",
      "metadata": {
        "id": "md3MXLSIRSN5"
      },
      "source": [
        "learning_rate_init=0.001"
      ]
    },
    {
      "cell_type": "markdown",
      "metadata": {
        "id": "42ZGkxgJR6is"
      },
      "source": [
        "hidden_layer_sizes=(100,)"
      ]
    },
    {
      "cell_type": "markdown",
      "metadata": {
        "id": "p02gomuWSt_Z"
      },
      "source": [
        "activation='relu'"
      ]
    },
    {
      "cell_type": "markdown",
      "metadata": {
        "id": "QfPZXX-nS3-r"
      },
      "source": [
        "shuffle=True,early_stopping=False,"
      ]
    },
    {
      "cell_type": "markdown",
      "metadata": {
        "id": "gLHPA536TCui"
      },
      "source": [
        "verbose-> loss 정보"
      ]
    },
    {
      "cell_type": "markdown",
      "metadata": {
        "id": "QaCr85YKTLth"
      },
      "source": [
        "warm_start= 상관 X"
      ]
    },
    {
      "cell_type": "markdown",
      "metadata": {
        "id": "LnQoWUEMUb4T"
      },
      "source": [
        "momentum=0.9"
      ]
    },
    {
      "cell_type": "markdown",
      "metadata": {
        "id": "pTGukVkXUhlA"
      },
      "source": [
        "nesterovs_momentum= 상관 X"
      ]
    },
    {
      "cell_type": "markdown",
      "metadata": {
        "id": "8IHXtjpsVeXQ"
      },
      "source": [
        "n_iter_no_change=2, 10"
      ]
    },
    {
      "cell_type": "markdown",
      "metadata": {
        "id": "u47_GEd9WPX5"
      },
      "source": [
        "tol=0.0001"
      ]
    },
    {
      "cell_type": "code",
      "metadata": {
        "id": "JfkQVjyEKLMl"
      },
      "source": [
        "for k in range(1,10):\n",
        "  k=k*0.0001\n",
        "  print(\"k: \",k)\n",
        "  nn = MLPClassifier(hidden_layer_sizes=(100,), activation='relu', solver='sgd', alpha=0.00001, batch_size=50, \n",
        "                   learning_rate='adaptive', learning_rate_init=0.001, power_t=0.5, max_iter=200, shuffle=True, \n",
        "                   random_state=23, tol=0.0001, verbose=False, warm_start=False, momentum=0.9, nesterovs_momentum=True, \n",
        "                   early_stopping=False, validation_fraction=0.1, beta_1=0.9, beta_2=0.999, epsilon=1e-08, \n",
        "                   n_iter_no_change=2)\n",
        "  model_assess(nn, 'Neural Nets')"
      ],
      "execution_count": null,
      "outputs": []
    },
    {
      "cell_type": "code",
      "metadata": {
        "colab": {
          "base_uri": "https://localhost:8080/"
        },
        "id": "9_clatESSTRe",
        "outputId": "ac3d46c2-ede4-46e8-e731-4b9439c16548"
      },
      "source": [
        "nn = MLPClassifier(hidden_layer_sizes=(100,), activation='relu', solver='sgd', alpha=0.00001, batch_size=50, \n",
        "                   learning_rate='adaptive', learning_rate_init=0.001, power_t=0.5, max_iter=200, shuffle=True, \n",
        "                   random_state=23, tol=0.0001, verbose=False, warm_start=False, momentum=0.9, nesterovs_momentum=True, \n",
        "                   early_stopping=False, validation_fraction=0.1, beta_1=0.9, beta_2=0.999, epsilon=1e-08, \n",
        "                   n_iter_no_change=2)\n",
        "model_assess(nn, 'Neural Nets')"
      ],
      "execution_count": 40,
      "outputs": [
        {
          "output_type": "stream",
          "text": [
            "--- Neural Nets --- \n",
            " [[  1   0   9   2   2]\n",
            " [  0  27  22   0  16]\n",
            " [  1  12 150   2  26]\n",
            " [  0   3  13  11  15]\n",
            " [  1  18  10   6 215]] \n",
            " Accuracy: 0.71886 \n",
            "\n"
          ],
          "name": "stdout"
        }
      ]
    },
    {
      "cell_type": "markdown",
      "metadata": {
        "id": "2JIL-UGxI_Cx"
      },
      "source": [
        "### 최종"
      ]
    },
    {
      "cell_type": "code",
      "metadata": {
        "colab": {
          "base_uri": "https://localhost:8080/"
        },
        "id": "nJ4zJQ5VHOiG",
        "outputId": "e0fcb488-9285-4d3c-e25b-1d6c1db824e3"
      },
      "source": [
        "nn = MLPClassifier(hidden_layer_sizes=(100,), activation='relu', solver='sgd', alpha=0.0001, batch_size=50, \n",
        "                   learning_rate='adaptive', learning_rate_init=0.001, power_t=0.5, max_iter=200, shuffle=True, \n",
        "                   random_state=23, tol=0.0001, verbose=False, warm_start=False, momentum=0.9, nesterovs_momentum=True, \n",
        "                   early_stopping=False, validation_fraction=0.1, beta_1=0.9, beta_2=0.999, epsilon=1e-08, \n",
        "                   n_iter_no_change=10)\n",
        "model_assess(nn, 'Neural Nets')"
      ],
      "execution_count": 47,
      "outputs": [
        {
          "output_type": "stream",
          "text": [
            "--- Neural Nets --- \n",
            " [[  3   0   7   2   2]\n",
            " [  0  31  19   0  15]\n",
            " [  1  13 147   3  27]\n",
            " [  1   1  10  15  15]\n",
            " [  1  18   8   7 216]] \n",
            " Accuracy: 0.7331 \n",
            "\n"
          ],
          "name": "stdout"
        }
      ]
    },
    {
      "cell_type": "code",
      "metadata": {
        "id": "rDSmor5zsrZx"
      },
      "source": [
        "# help(MLPClassifier)"
      ],
      "execution_count": 49,
      "outputs": []
    },
    {
      "cell_type": "code",
      "metadata": {
        "id": "0dhOx9PDJF5V"
      },
      "source": [
        ""
      ],
      "execution_count": null,
      "outputs": []
    }
  ]
}